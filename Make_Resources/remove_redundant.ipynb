{
 "cells": [
  {
   "cell_type": "code",
   "execution_count": 1,
   "id": "4f30ee99-4cd5-4c9a-884c-2c085e3c62e8",
   "metadata": {},
   "outputs": [],
   "source": [
    "#import all of my modules\n",
    "import numpy as np\n",
    "from pathlib import Path"
   ]
  },
  {
   "cell_type": "code",
   "execution_count": 2,
   "id": "77730739-f4f0-4fb5-b3dd-339c54e1555c",
   "metadata": {},
   "outputs": [],
   "source": [
    "#get all our usable spiral galaxy paths\n",
    "available_spiral_paths = np.load('../Selecting_Sample/available_spirals.npy', allow_pickle=True)"
   ]
  },
  {
   "cell_type": "code",
   "execution_count": 3,
   "id": "07365d4d-fe52-4a59-afe6-f9b5badd83cd",
   "metadata": {},
   "outputs": [],
   "source": [
    "#collect filenames from our available spiral paths\n",
    "filenames = []\n",
    "\n",
    "for path in available_spiral_paths:\n",
    "    filename = path.split('/')[-1]\n",
    "    filenames.append(filename)"
   ]
  },
  {
   "cell_type": "code",
   "execution_count": 4,
   "id": "bc5fb920-daf6-438d-a1c1-7afebf1ce092",
   "metadata": {},
   "outputs": [],
   "source": [
    "# delete dict files if not available in our available_spiral_paths\n",
    "dictdir = Path('Dicts/')\n",
    "\n",
    "for file in dictdir.iterdir():\n",
    "    assert file.is_file()\n",
    "    dict_filename = '.'.join(file.name.split('.')[0:-1])\n",
    "    if dict_filename in filenames:\n",
    "        continue\n",
    "    else:\n",
    "        file.unlink()"
   ]
  },
  {
   "cell_type": "code",
   "execution_count": 5,
   "id": "5eddd921-9012-4174-9a0b-06f99301161a",
   "metadata": {},
   "outputs": [],
   "source": [
    "# delete DF files if not available in our available_spiral_paths\n",
    "dictdir = Path('DFs//')\n",
    "\n",
    "for file in dictdir.iterdir():\n",
    "    assert file.is_file()\n",
    "    df_filename = '.'.join(file.name.split('.')[0:-1])\n",
    "    if dict_filename in filenames:\n",
    "        continue\n",
    "    else:\n",
    "        file.unlink()"
   ]
  },
  {
   "cell_type": "code",
   "execution_count": null,
   "id": "113a8f7b-d2c1-45cb-95f8-44a9fc56fb47",
   "metadata": {},
   "outputs": [],
   "source": []
  }
 ],
 "metadata": {
  "kernelspec": {
   "display_name": "Python 3",
   "language": "python",
   "name": "python3"
  },
  "language_info": {
   "codemirror_mode": {
    "name": "ipython",
    "version": 3
   },
   "file_extension": ".py",
   "mimetype": "text/x-python",
   "name": "python",
   "nbconvert_exporter": "python",
   "pygments_lexer": "ipython3",
   "version": "3.9.5"
  }
 },
 "nbformat": 4,
 "nbformat_minor": 5
}
