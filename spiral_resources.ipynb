{
 "cells": [
  {
   "cell_type": "markdown",
   "metadata": {},
   "source": [
    "### In this notebook, we create two objects necessary for spiral galaxy analysis. These are:\n",
    "\n",
    "* The dictionary with details for the spiral galaxy.\n",
    "* The PANDAS dataframe with details for all spaxels within a galaxy\n",
    "\n",
    "The dictionary is being made to replace the `SpiralGalaxy` object. This is because the `SpiralGalaxy` object consumes more memory than necessary, and it is easy to deliver galaxy details with a normal dictionary. These two separate objects are, unfortunately, necessary.\n",
    "\n",
    "We cannot incorporate the galaxy details within the PANDAS dataframe as processing the dataframe can get rid of these details."
   ]
  },
  {
   "cell_type": "code",
   "execution_count": 1,
   "metadata": {
    "scrolled": true
   },
   "outputs": [
    {
     "name": "stderr",
     "output_type": "stream",
     "text": [
      "\u001b[0;34m[INFO]: \u001b[0mNo release version set. Setting default to MPL-11\n",
      "\u001b[1;33m[WARNING]: \u001b[0m\u001b[0;39mpath /home/sshamsi_haverford_edu/sas/mangawork/manga/spectro/analysis/v3_1_1/3.1.0/dapall-v3_1_1-3.1.0.fits cannot be found. Setting dapall to None.\u001b[0m \u001b[0;36m(MarvinUserWarning)\u001b[0m\n"
     ]
    }
   ],
   "source": [
    "#First we'll import all the module we need\n",
    "from marvin.tools.maps import Maps\n",
    "\n",
    "import pandas as pd\n",
    "import numpy as np\n",
    "\n",
    "import sys\n",
    "sys.path.insert(0, '/home/sshamsi_haverford_edu/galaxy_zoo/GZ3D_production/') #this might need changing if working across platforms\n",
    "\n",
    "import gz3d_fits"
   ]
  },
  {
   "cell_type": "code",
   "execution_count": 2,
   "metadata": {},
   "outputs": [],
   "source": [
    "def return_dict(filepath):\n",
    "    galdict = {\n",
    "        'filepath': filepath\n",
    "    }\n",
    "    \n",
    "    galdict['filename'] = galdict['filepath'].split('/')[-1]\n",
    "    galdict['mangaid'] = galdict['filename'].split('_')[0]\n",
    "    \n",
    "    maps = Maps(galdict['mangaid'])\n",
    "    \n",
    "    galdict['z'] = maps.nsa['z']\n",
    "    galdict['d_mpc'] = (299792.458 * galdict['z']) / 70 #Mpc\n",
    "    galdict['d_kpc'] = galdict['d_mpc'] * 1E3 #Kpc\n",
    "    galdict['d_m'] = galdict['d_mpc'] * 3.085677581E+22 # m\n",
    "    galdict['delta'] = (4 * np.pi * (galdict['d_m']**2)) / ((2.8**2.36) * (10**41.1))\n",
    "    galdict['spax_area'] = (0.0000024240684055477 * galdict['d_kpc'])**2 # Kpc^2\n",
    "    galdict['map_shape'] = maps.emline_gflux_ha_6564.shape\n",
    "    \n",
    "    galdict['eff_rad'] = maps.nsa['elpetro_th50_r'] * 2 #maps.nsa['elpetro_th50_r'] is in \" units, so we multiply by 2 to get effective radius in units of spaxels\n",
    "    galdict['mass'] = maps.nsa['sersic_mass']\n",
    "    galdict['theta'] = np.radians(maps.nsa['elpetro_phi'] - 90.0)\n",
    "    galdict['elpetro_ba'] = maps.nsa['elpetro_ba']\n",
    "    \n",
    "    return galdict"
   ]
  },
  {
   "cell_type": "code",
   "execution_count": 3,
   "metadata": {},
   "outputs": [],
   "source": [
    "def return_df(galdict):\n",
    "    return form_global_df(galdict, spiral_threshold=3, other_threshold=3)"
   ]
  },
  {
   "cell_type": "code",
   "execution_count": 4,
   "metadata": {},
   "outputs": [],
   "source": [
    "def make_emmasks(hamask, hbmask):\n",
    "    '''Takes masks from the MaNGA maps and if a spaxel is flagges as\n",
    "    \"DO NOT USE (2**30) then it marks it as \"0\". Creates global maek objects\n",
    "    from these.'''\n",
    "    \n",
    "    ha_mask_array = hamask.flatten()\n",
    "    hb_mask_array = hbmask.flatten()\n",
    "\n",
    "    for i in range(len(ha_mask_array)):\n",
    "        if ha_mask_array[i] & 1073741824 == 0:\n",
    "            ha_mask_array[i] = 0\n",
    "            hb_mask_array[i] = 0\n",
    "        else:\n",
    "            ha_mask_array[i] = 1\n",
    "            \n",
    "            if hb_mask_array[i] & 1073741824 == 0:\n",
    "                hb_mask_array[i] = 0\n",
    "            else:\n",
    "                hb_mask_array[i] = 1\n",
    "\n",
    "    ha_mask_array = np.array(ha_mask_array, dtype=bool)\n",
    "    hb_mask_array = np.array(hb_mask_array, dtype=bool)\n",
    "    \n",
    "    return ha_mask_array, hb_mask_array"
   ]
  },
  {
   "cell_type": "code",
   "execution_count": 5,
   "metadata": {},
   "outputs": [],
   "source": [
    "def btp_masks(maps):\n",
    "    '''Simple make arrays of indicating the BPT classification of each spxel.\n",
    "    Then we append this to the global DF later.'''\n",
    "    \n",
    "    bpt_masks = maps.get_bpt(return_figure=False, show_plot=False)\n",
    "\n",
    "    comp = bpt_masks['comp']['global']\n",
    "    agn = bpt_masks['agn']['global']\n",
    "    seyfert = bpt_masks['seyfert']['global']\n",
    "    liner = bpt_masks['liner']['global']\n",
    "    \n",
    "    return comp, agn, seyfert, liner"
   ]
  },
  {
   "cell_type": "code",
   "execution_count": 6,
   "metadata": {},
   "outputs": [],
   "source": [
    "def make_r_array(map_shape, theta, elpetro_ba):\n",
    "    '''Goes through all spaxels and creates a global array of spaxel distances from the map centre.\n",
    "    Distances are in units of spaxels.'''\n",
    "    r_array = np.array([])\n",
    "\n",
    "    a, b = map_shape\n",
    "    k, h = (a - 1) / 2.0, (b - 1) / 2.0 #map centre\n",
    "\n",
    "    for y, x in [(y, x) for y in range(a) for x in range(b)]:\n",
    "        j, i = (-1 * (y - k), x - h) #vector from centre\n",
    "\n",
    "        spax_angle = (np.arctan(j / i)) - theta\n",
    "        vec_len = (j**2.0 + i**2.0)**0.5\n",
    "        r = vec_len * ((np.cos(spax_angle))**2.0 + ((np.sin(spax_angle))/elpetro_ba)**2.0)**0.5\n",
    "        \n",
    "        r_array = np.append(r_array, r)\n",
    "    \n",
    "    return r_array"
   ]
  },
  {
   "cell_type": "code",
   "execution_count": 7,
   "metadata": {},
   "outputs": [],
   "source": [
    "def form_global_df(galdict, spiral_threshold=3, other_threshold=3):\n",
    "    '''Make a global DF.'''\n",
    "    \n",
    "    #load the maps we need\n",
    "    maps = Maps(galdict['mangaid'])\n",
    "    hamap = maps.emline_gflux_ha_6564\n",
    "    hbmap = maps.emline_gflux_hb_4862\n",
    "    \n",
    "    r_array =  make_r_array(galdict['map_shape'], galdict['theta'], galdict['elpetro_ba'])\n",
    "    ha_mask_array, hb_mask_array = make_emmasks(hamap.mask, hbmap.mask)\n",
    "    \n",
    "    #Forming the H-a and H-b values, errors, and SNR arrays\n",
    "    ha_array = hamap.value.flatten()\n",
    "    sig_ha_array = hamap.error.value.flatten()\n",
    "    ha_snr = hamap.snr.flatten()\n",
    "    \n",
    "    hb_array = hbmap.value.flatten()\n",
    "    sig_hb_array = hbmap.error.value.flatten()\n",
    "    hb_snr = hbmap.snr.flatten()\n",
    "    \n",
    "    #Forming the the BPT label arrays\n",
    "    comp, agn, seyfert, liner = btp_masks(maps)\n",
    "    \n",
    "    comp_array = comp.flatten()\n",
    "    agn_array = agn.flatten()\n",
    "    seyfert_array = seyfert.flatten()\n",
    "    liner_array = liner.flatten()\n",
    "    \n",
    "    data_array = np.array([r_array, ha_array, sig_ha_array, ha_snr, hb_array, sig_hb_array, hb_snr,\n",
    "                           comp_array, agn_array, seyfert_array, liner_array]).transpose()\n",
    "\n",
    "    df = pd.DataFrame(data=data_array, columns=['Radius', '$H_{\\\\alpha}$', '$\\sigma H_{\\\\alpha}$',\n",
    "                                                'S/N $H_{\\\\alpha}$', '$H_{\\\\beta}$', '$\\sigma H_{\\\\beta}$',\n",
    "                                                'S/N $H_{\\\\beta}$', 'Comp', 'AGN', 'Seyfert', 'Liner'])\n",
    "\n",
    "    df['$r/r_e$'] = df['Radius'] / galdict['eff_rad']\n",
    "    \n",
    "    df.iloc[ha_mask_array, df.columns.get_loc('$H_{\\\\alpha}$')] = np.nan\n",
    "    df.iloc[ha_mask_array, df.columns.get_loc('$\\sigma H_{\\\\alpha}$')] = np.nan\n",
    "    df.iloc[ha_mask_array, df.columns.get_loc('$H_{\\\\beta}$')] = np.nan\n",
    "    df.iloc[ha_mask_array, df.columns.get_loc('$\\sigma H_{\\\\beta}$')] = np.nan\n",
    "    \n",
    "    df.iloc[hb_mask_array, df.columns.get_loc('$H_{\\\\beta}$')] = np.nan\n",
    "    df.iloc[hb_mask_array, df.columns.get_loc('$\\sigma H_{\\\\beta}$')] = np.nan\n",
    "    \n",
    "    df = df.replace([np.inf, -np.inf], np.nan)\n",
    "    \n",
    "    df = update_spirals(df, galdict['filepath'], galdict['map_shape'], spiral_threshold=spiral_threshold, other_threshold=other_threshold)\n",
    "    \n",
    "    df['MaNGA ID'] = galdict['mangaid']\n",
    "    df['Mass'] = galdict['mass']\n",
    "    \n",
    "    return df"
   ]
  },
  {
   "cell_type": "code",
   "execution_count": 8,
   "metadata": {},
   "outputs": [],
   "source": [
    "def update_spirals(df, file_path, map_shape, spiral_threshold=3, other_threshold=3, ret_bool_masks=False):\n",
    "    '''Do you want to change the parametres for what does/doesn't count as a spaxel or a\n",
    "    non-spaxel? Use this function to simply update the \"Spiral\" column of the global DF'''\n",
    "    \n",
    "    data = gz3d_fits.gz3d_fits(file_path)\n",
    "    data.make_all_spaxel_masks(grid_size = map_shape)\n",
    "    \n",
    "    center_mask_spaxel_bool = data.center_mask_spaxel > other_threshold\n",
    "    star_mask_spaxel_bool = data.star_mask_spaxel > other_threshold\n",
    "    bar_mask_spaxel_bool = data.bar_mask_spaxel > other_threshold\n",
    "    spiral_mask_spaxel_bool = data.spiral_mask_spaxel > spiral_threshold\n",
    "    \n",
    "    combined_mask = center_mask_spaxel_bool | star_mask_spaxel_bool | bar_mask_spaxel_bool\n",
    "    \n",
    "    spiral_spaxel_bool = spiral_mask_spaxel_bool & (~combined_mask)\n",
    "    nonspiral_spaxel_bool = (~spiral_mask_spaxel_bool) & (~combined_mask)\n",
    "    \n",
    "    if ret_bool_masks:\n",
    "        return spiral_spaxel_bool, nonspiral_spaxel_bool\n",
    "    \n",
    "    df['Spiral Arm'] = spiral_spaxel_bool.flatten()\n",
    "    df['Nonspiral Arm'] = nonspiral_spaxel_bool.flatten()\n",
    "    \n",
    "    return df"
   ]
  },
  {
   "cell_type": "code",
   "execution_count": 12,
   "metadata": {},
   "outputs": [
    {
     "name": "stderr",
     "output_type": "stream",
     "text": [
      "\u001b[1;33m[WARNING]: \u001b[0m\u001b[0;39mnp.asscalar(a) is deprecated since NumPy v1.16, use a.item() instead\u001b[0m \u001b[0;36m(DeprecationWarning)\u001b[0m\n"
     ]
    }
   ],
   "source": [
    "ex_dict = return_dict('/home/sshamsi_haverford_edu/sas/mangawork/manga/sandbox/galaxyzoo3d/v3_0_0/1-106630_127_14715787.fits.gz')"
   ]
  },
  {
   "cell_type": "code",
   "execution_count": 13,
   "metadata": {},
   "outputs": [
    {
     "data": {
      "text/plain": [
       "{'filepath': '/home/sshamsi_haverford_edu/sas/mangawork/manga/sandbox/galaxyzoo3d/v3_0_0/1-106630_127_14715787.fits.gz',\n",
       " 'filename': '1-106630_127_14715787.fits.gz',\n",
       " 'mangaid': '1-106630',\n",
       " 'z': 0.054814097,\n",
       " 'd_mpc': 234.75504103829178,\n",
       " 'd_kpc': 234755.0410382918,\n",
       " 'd_m': 7.243783671585919e+24,\n",
       " 'delta': 461155990.07889533,\n",
       " 'spax_area': 0.3238318762698379,\n",
       " 'map_shape': (72, 72),\n",
       " 'eff_rad': 18.071252,\n",
       " 'mass': 148505120000.0,\n",
       " 'theta': 1.210244813654506,\n",
       " 'elpetro_ba': 0.7282216}"
      ]
     },
     "execution_count": 13,
     "metadata": {},
     "output_type": "execute_result"
    }
   ],
   "source": [
    "ex_dict"
   ]
  },
  {
   "cell_type": "code",
   "execution_count": 14,
   "metadata": {},
   "outputs": [],
   "source": [
    "df = return_df(ex_dict)"
   ]
  },
  {
   "cell_type": "code",
   "execution_count": 15,
   "metadata": {},
   "outputs": [
    {
     "data": {
      "text/html": [
       "<div>\n",
       "<style scoped>\n",
       "    .dataframe tbody tr th:only-of-type {\n",
       "        vertical-align: middle;\n",
       "    }\n",
       "\n",
       "    .dataframe tbody tr th {\n",
       "        vertical-align: top;\n",
       "    }\n",
       "\n",
       "    .dataframe thead th {\n",
       "        text-align: right;\n",
       "    }\n",
       "</style>\n",
       "<table border=\"1\" class=\"dataframe\">\n",
       "  <thead>\n",
       "    <tr style=\"text-align: right;\">\n",
       "      <th></th>\n",
       "      <th>Radius</th>\n",
       "      <th>$H_{\\alpha}$</th>\n",
       "      <th>$\\sigma H_{\\alpha}$</th>\n",
       "      <th>S/N $H_{\\alpha}$</th>\n",
       "      <th>$H_{\\beta}$</th>\n",
       "      <th>$\\sigma H_{\\beta}$</th>\n",
       "      <th>S/N $H_{\\beta}$</th>\n",
       "      <th>Comp</th>\n",
       "      <th>AGN</th>\n",
       "      <th>Seyfert</th>\n",
       "      <th>Liner</th>\n",
       "      <th>$r/r_e$</th>\n",
       "      <th>Spiral Arm</th>\n",
       "      <th>Nonspiral Arm</th>\n",
       "      <th>MaNGA ID</th>\n",
       "      <th>Mass</th>\n",
       "    </tr>\n",
       "  </thead>\n",
       "  <tbody>\n",
       "    <tr>\n",
       "      <th>2555</th>\n",
       "      <td>0.931458</td>\n",
       "      <td>3.984242</td>\n",
       "      <td>0.123015</td>\n",
       "      <td>32.388145</td>\n",
       "      <td>1.435752</td>\n",
       "      <td>0.144700</td>\n",
       "      <td>9.922264</td>\n",
       "      <td>0.0</td>\n",
       "      <td>1.0</td>\n",
       "      <td>0.0</td>\n",
       "      <td>1.0</td>\n",
       "      <td>0.051544</td>\n",
       "      <td>False</td>\n",
       "      <td>False</td>\n",
       "      <td>1-106630</td>\n",
       "      <td>1.485051e+11</td>\n",
       "    </tr>\n",
       "    <tr>\n",
       "      <th>2556</th>\n",
       "      <td>0.758444</td>\n",
       "      <td>4.424567</td>\n",
       "      <td>0.114496</td>\n",
       "      <td>38.643871</td>\n",
       "      <td>1.714430</td>\n",
       "      <td>0.133461</td>\n",
       "      <td>12.845928</td>\n",
       "      <td>0.0</td>\n",
       "      <td>1.0</td>\n",
       "      <td>0.0</td>\n",
       "      <td>1.0</td>\n",
       "      <td>0.041970</td>\n",
       "      <td>False</td>\n",
       "      <td>False</td>\n",
       "      <td>1-106630</td>\n",
       "      <td>1.485051e+11</td>\n",
       "    </tr>\n",
       "  </tbody>\n",
       "</table>\n",
       "</div>"
      ],
      "text/plain": [
       "        Radius  $H_{\\alpha}$  $\\sigma H_{\\alpha}$  S/N $H_{\\alpha}$  \\\n",
       "2555  0.931458      3.984242             0.123015         32.388145   \n",
       "2556  0.758444      4.424567             0.114496         38.643871   \n",
       "\n",
       "      $H_{\\beta}$  $\\sigma H_{\\beta}$  S/N $H_{\\beta}$  Comp  AGN  Seyfert  \\\n",
       "2555     1.435752            0.144700         9.922264   0.0  1.0      0.0   \n",
       "2556     1.714430            0.133461        12.845928   0.0  1.0      0.0   \n",
       "\n",
       "      Liner   $r/r_e$  Spiral Arm  Nonspiral Arm  MaNGA ID          Mass  \n",
       "2555    1.0  0.051544       False          False  1-106630  1.485051e+11  \n",
       "2556    1.0  0.041970       False          False  1-106630  1.485051e+11  "
      ]
     },
     "execution_count": 15,
     "metadata": {},
     "output_type": "execute_result"
    }
   ],
   "source": [
    "df[(df['Spiral Arm'] == False) & (df['Nonspiral Arm'] == False)]"
   ]
  },
  {
   "cell_type": "code",
   "execution_count": null,
   "metadata": {},
   "outputs": [],
   "source": []
  }
 ],
 "metadata": {
  "kernelspec": {
   "display_name": "Python 3",
   "language": "python",
   "name": "python3"
  },
  "language_info": {
   "codemirror_mode": {
    "name": "ipython",
    "version": 3
   },
   "file_extension": ".py",
   "mimetype": "text/x-python",
   "name": "python",
   "nbconvert_exporter": "python",
   "pygments_lexer": "ipython3",
   "version": "3.9.2"
  }
 },
 "nbformat": 4,
 "nbformat_minor": 2
}
