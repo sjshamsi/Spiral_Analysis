{
 "cells": [
  {
   "cell_type": "markdown",
   "id": "90885a47-a511-4b78-ac68-0d7fb3d66f03",
   "metadata": {},
   "source": [
    "### Hi! Welcome to the larger tutorial on how to use the Spiral Analysis program.\n",
    "\n",
    "#### We'll be talking about some structural properties, and then move onto performing some analysis on how SFRs depent on galactic properties!\n",
    "\n",
    "##### **Before we begin**\n",
    "We must make sure we have the `sdss-marvin` package installed [(link)](https://sdss-marvin.readthedocs.io/en/latest/https://sdss-marvin.readthedocs.io/en/latest/). The website will also detail how to create a `.netrc` file and configure `sdss-marvin` to enable collaboration access to SDSS MaNGA data.\n",
    "\n",
    "Secondly we must also have the processed **Galaxy Zoo: 3D (GZ3D)** (v3 as of 25/07/2021) files located in the default directory `~/sas/mangawork/manga/sandbox/galaxyzoo3d/v3_0_0/`.\n",
    "\n",
    "Thirdly, the program requires  Coleman Krawczyk's [GZ3D_production](https://github.com/CKrawczyk/GZ3D_productionhttps://github.com/CKrawczyk/GZ3D_production) repository, an excellent introduction to using GZ3D data. The program is made to expect the repository directory in the parent directory of program's code.\n",
    "\n"
   ]
  },
  {
   "cell_type": "code",
   "execution_count": null,
   "id": "36e86bea-ab6f-4777-ba36-0cd39a6f9c61",
   "metadata": {},
   "outputs": [],
   "source": [
    "import sys, os"
   ]
  },
  {
   "cell_type": "code",
   "execution_count": null,
   "id": "2e5a4666-45e8-4bee-92da-e04620c78da8",
   "metadata": {},
   "outputs": [],
   "source": [
    "sys.path.append(os.path.abspath('../GZ3D_production/'))"
   ]
  },
  {
   "cell_type": "code",
   "execution_count": null,
   "id": "0e4e5429-1077-4f4d-8533-daa08a2ac5f3",
   "metadata": {},
   "outputs": [],
   "source": [
    "import gz3d_fits"
   ]
  },
  {
   "cell_type": "code",
   "execution_count": null,
   "id": "b413803c-9828-4fd8-94d8-ad9609d60b95",
   "metadata": {},
   "outputs": [],
   "source": []
  }
 ],
 "metadata": {
  "kernelspec": {
   "display_name": "Python 3",
   "language": "python",
   "name": "python3"
  },
  "language_info": {
   "codemirror_mode": {
    "name": "ipython",
    "version": 3
   },
   "file_extension": ".py",
   "mimetype": "text/x-python",
   "name": "python",
   "nbconvert_exporter": "python",
   "pygments_lexer": "ipython3",
   "version": "3.9.5"
  }
 },
 "nbformat": 4,
 "nbformat_minor": 5
}
