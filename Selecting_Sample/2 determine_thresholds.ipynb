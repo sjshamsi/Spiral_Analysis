{
 "cells": [
  {
   "cell_type": "markdown",
   "id": "b95e6ca2",
   "metadata": {
    "tags": []
   },
   "source": [
    "### Determining good thresholds\n",
    "\n",
    "Previously, we filtered our sample to contain galaxies with MaNGA observations and which have been classified to contain spiral arms by at least one person.\n",
    "\n",
    "Is at least one classification by a person a good metric though? A large number of classifications as a spiral arm spaxel and a low number as a spaxel of any other morphological feature is definitely grounds for a spiral arm spaxel. However, there may be no definite way to determine the minimum number of classifications as a spiral arm spaxel (spiral threshold; $T_{sp}$), or the maximum number of non-spiral arm classifications (non-spiral threshold; $T_{nsp}$) that would denote a spiral arm. A very low spiral threshold (e.g. 1 classification) would be inadequate as it may include a false-positive due to a mistake, while a very high (e.g. 14 or 15) may disregard a spiral spaxel if missed by a volunteer or two. Similarly, if the non-spiral threshold is too high, morphological features like galactic centres, bars, and foreground stars may be falsely counted as spiral arms, while a low non-spiral threshold will lead to false classifications as a non-spiral spaxel. To get a statistically sound sample, we must determine a good threshold."
   ]
  },
  {
   "cell_type": "code",
   "execution_count": 1,
   "id": "d38bbfab",
   "metadata": {},
   "outputs": [
    {
     "name": "stderr",
     "output_type": "stream",
     "text": [
      "/home/sshamsi/miniconda3/envs/marvin/lib/python3.9/site-packages/marvin/core/exceptions.py:50: UserWarning: cannot initiate Sentry error reporting: [Errno 25] Inappropriate ioctl for device.\n",
      "  warnings.warn('cannot initiate Sentry error reporting: {0}.'.format(str(ee)),\n",
      "\u001b[0;34m[INFO]: \u001b[0mNo release version set. Setting default to MPL-11\n"
     ]
    }
   ],
   "source": [
    "import matplotlib.pyplot as plt\n",
    "import numpy as np\n",
    "import os, sys\n",
    "import warnings\n",
    "\n",
    "sys.path.append(os.path.abspath('../../GZ3D_production/'))\n",
    "from gz3d_fits import gz3d_fits"
   ]
  },
  {
   "cell_type": "code",
   "execution_count": 2,
   "id": "44e2fe30",
   "metadata": {},
   "outputs": [],
   "source": [
    "plt.style.use('seaborn')\n",
    "plt.style.use('seaborn-colorblind')"
   ]
  },
  {
   "cell_type": "code",
   "execution_count": 3,
   "id": "66cbd39e",
   "metadata": {},
   "outputs": [],
   "source": [
    "manga_gz3d_spiral_paths = np.load('manga_gz3d_spirals.npy', allow_pickle=True)"
   ]
  },
  {
   "cell_type": "markdown",
   "id": "65f12f3d",
   "metadata": {},
   "source": [
    "We'll select some random paths from our `manga_gz3d_spiral_paths` array. We'll see how the spiral regions get defined for these galaxies to determine what threshold works best for our purposed.\n",
    "\n",
    "We need to determine what thresholds to test in the range $0\\leq threshold\\leq 15$. We could test all of them to be sure but through the power of hindsight (I've done this before), I know that generally a threshold of ~3 works best and so we'll do thresholds around them. You may change this according to your needs."
   ]
  },
  {
   "cell_type": "code",
   "execution_count": 4,
   "id": "c72768d7",
   "metadata": {},
   "outputs": [
    {
     "name": "stdout",
     "output_type": "stream",
     "text": [
      "[2. 3. 4. 5.]\n"
     ]
    }
   ],
   "source": [
    "thresholds = np.linspace(2, 5, 4)\n",
    "print(thresholds)"
   ]
  },
  {
   "cell_type": "markdown",
   "id": "4142d660-520f-4aef-beba-208e2d3e12b3",
   "metadata": {},
   "source": [
    "Now by comparing images of how spiral regions change with respect to threshold, we can see which one works better. By default, we'll save images to the directory `./Images_Comparing_Thresholds`."
   ]
  },
  {
   "cell_type": "code",
   "execution_count": 5,
   "id": "8df18dcc",
   "metadata": {},
   "outputs": [
    {
     "data": {
      "image/png": "[encoded data removed]",
      "text/plain": [
       "<Figure size 2304x9216 with 4 Axes>"
      ]
     },
     "metadata": {},
     "output_type": "display_data"
    }
   ],
   "source": [
    "save_imgs = True\n",
    "\n",
    "rand_paths = np.random.choice(manga_gz3d_spiral_paths, size=5) #making an raay of 5 random galaxies\n",
    "fig, axes = plt.subplots(nrows=1, ncols=4, figsize=(32, 32*4))\n",
    "\n",
    "for path in rand_paths:\n",
    "    filename = path.split('/')[-1] + '.png'\n",
    "    \n",
    "    data = gz3d_fits(path)\n",
    "    img = data.image\n",
    "    spiral_mask = data.spiral_mask\n",
    "    \n",
    "    axes[0].text(13, 500, 'MaNGA ID: {}'.format(data.metadata['MANGAID'][0]), color='white', size=16)\n",
    "    \n",
    "    for ax, threshold in zip(axes, thresholds):\n",
    "        ax.axis('off')\n",
    "        ax.imshow(img)\n",
    "        \n",
    "        with warnings.catch_warnings(record=True) as w:\n",
    "            ax.contour(spiral_mask > threshold, levels=1, colors='white')\n",
    "            ax.text(13, 29, 'Threshold: {}'.format(str(threshold)), color='white', size=16)\n",
    "            \n",
    "            if len(w) > 0:\n",
    "                ax.text(13, 50, 'No classifications found for threshold', color='white', size=14)\n",
    "                \n",
    "    plt.subplots_adjust(wspace=0.01, hspace=0)\n",
    "    \n",
    "    if save_imgs:\n",
    "        plt.savefig('Images_Comparing_Thresholds/{}'.format(filename), format='png', bbox_inches='tight')\n",
    "        for ax in axes:\n",
    "            ax.cla()"
   ]
  },
  {
   "cell_type": "markdown",
   "id": "33db7040-944f-4762-b167-4d3c652a0b79",
   "metadata": {},
   "source": [
    "Now we have all these galaxy images in the `Images_Comparing_Thresholds` folder. We can go through them (or a subset of them really) to figure out what threshold works best for us. And indeed it seems like a threshold of 3 works best for us! Different analyses may require different subsets, and therefore may change what kind of threshold works best."
   ]
  },
  {
   "cell_type": "code",
   "execution_count": null,
   "id": "e4d1932c-b4bd-4eb0-967f-4a6125514d1e",
   "metadata": {},
   "outputs": [],
   "source": []
  }
 ],
 "metadata": {
  "kernelspec": {
   "display_name": "Python 3",
   "language": "python",
   "name": "python3"
  },
  "language_info": {
   "codemirror_mode": {
    "name": "ipython",
    "version": 3
   },
   "file_extension": ".py",
   "mimetype": "text/x-python",
   "name": "python",
   "nbconvert_exporter": "python",
   "pygments_lexer": "ipython3",
   "version": "3.9.7"
  }
 },
 "nbformat": 4,
 "nbformat_minor": 5
}
