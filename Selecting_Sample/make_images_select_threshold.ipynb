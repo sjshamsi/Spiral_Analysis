{
 "cells": [
  {
   "cell_type": "markdown",
   "id": "b95e6ca2",
   "metadata": {},
   "source": [
    "### How do we choose thresholds?\n",
    "\n",
    "A really high one will cause us to miss out on genuine spiral spaxels. A really low one will cause false positives. What to do?\n",
    "\n",
    "There isn't a definitive answer. We simple plot galaxy images with the spiral areas identified with each threshold, and then visually choose the best one. If you're looking into particular kinds of galaxies, it may eb helpful to repeat this exercise to judge the best threshold for you. We're going to apply this to all the usable galaxies in our sample."
   ]
  },
  {
   "cell_type": "code",
   "execution_count": 1,
   "id": "d38bbfab",
   "metadata": {},
   "outputs": [
    {
     "name": "stderr",
     "output_type": "stream",
     "text": [
      "/home/sshamsi/miniconda3/envs/marvin/lib/python3.9/site-packages/marvin/core/exceptions.py:50: UserWarning: cannot initiate Sentry error reporting: [Errno 25] Inappropriate ioctl for device.\n",
      "  warnings.warn('cannot initiate Sentry error reporting: {0}.'.format(str(ee)),\n",
      "\u001b[0;34m[INFO]: \u001b[0mNo release version set. Setting default to MPL-11\n"
     ]
    }
   ],
   "source": [
    "import matplotlib.pyplot as plt\n",
    "import numpy as np\n",
    "import os, sys\n",
    "import warnings\n",
    "\n",
    "sys.path.append(os.path.abspath('../../GZ3D_production/'))\n",
    "from gz3d_fits import gz3d_fits"
   ]
  },
  {
   "cell_type": "code",
   "execution_count": 2,
   "id": "44e2fe30",
   "metadata": {},
   "outputs": [],
   "source": [
    "plt.style.use('seaborn')\n",
    "plt.style.use('seaborn-colorblind')"
   ]
  },
  {
   "cell_type": "code",
   "execution_count": 3,
   "id": "66cbd39e",
   "metadata": {},
   "outputs": [],
   "source": [
    "available_filepaths = np.load('available_spirals.npy', allow_pickle=True)"
   ]
  },
  {
   "cell_type": "markdown",
   "id": "65f12f3d",
   "metadata": {},
   "source": [
    "We'll select some random galaxy paths from our sample to see how they fare with each threshold.\n",
    "\n",
    "First we need to determine what thresholds we are testing. Through the power of hindsight (I've done this before), I know that generally a threshold of ~3 works best. You may chnage this according to your needs."
   ]
  },
  {
   "cell_type": "code",
   "execution_count": 4,
   "id": "c72768d7",
   "metadata": {},
   "outputs": [
    {
     "data": {
      "text/plain": [
       "array([2., 3., 4., 5.])"
      ]
     },
     "execution_count": 4,
     "metadata": {},
     "output_type": "execute_result"
    }
   ],
   "source": [
    "thresholds = np.linspace(2, 5, 4)\n",
    "thresholds"
   ]
  },
  {
   "cell_type": "code",
   "execution_count": 5,
   "id": "8df18dcc",
   "metadata": {},
   "outputs": [
    {
     "data": {
      "image/png": "[encoded data removed]",
      "text/plain": [
       "<Figure size 2304x9216 with 4 Axes>"
      ]
     },
     "metadata": {},
     "output_type": "display_data"
    }
   ],
   "source": [
    "rand_paths = np.random.choice(available_filepaths, size=5) #making an raay of 50 random galaxies\n",
    "\n",
    "fig, axes = plt.subplots(nrows=1, ncols=4, figsize=(32, 32*4))\n",
    "\n",
    "for path in available_filepaths:\n",
    "    filename = path.split('/')[-1] + '.png'\n",
    "    \n",
    "    data = gz3d_fits(path)\n",
    "    img = data.image\n",
    "    spiral_mask = data.spiral_mask\n",
    "        \n",
    "    axes[0].text(13, 500, 'MaNGA ID: {}'.format(data.metadata['MANGAID'][0]), color='white', size=16)\n",
    "    \n",
    "    for ax, threshold in zip(axes, thresholds):\n",
    "        ax.axis('off')\n",
    "        ax.imshow(img)\n",
    "        \n",
    "        with warnings.catch_warnings(record=True) as w:\n",
    "            ax.contour(spiral_mask > threshold, levels=1, colors='white')\n",
    "            ax.text(13, 29, 'Threshold: {}'.format(str(threshold)), color='white', size=16)\n",
    "            \n",
    "            if len(w) > 0:\n",
    "                ax.text(13, 50, 'No classifications found for threshold', color='white', size=14)\n",
    "                \n",
    "    plt.subplots_adjust(wspace=0.01, hspace=0)\n",
    "    plt.savefig('Images_Comparing_Thresholds/{}'.format(filename), format='png', bbox_inches='tight')\n",
    "    \n",
    "    for ax in axes:\n",
    "        ax.cla()"
   ]
  },
  {
   "cell_type": "markdown",
   "id": "33db7040-944f-4762-b167-4d3c652a0b79",
   "metadata": {},
   "source": [
    "Now we have 2296 galaxy images in the `Images_Comparing_Thresholds` folder. We can go through them (or a subset of them really) to figure out what threshold works best for us. And indeed it seems like a threshold of 3 works best for us! Different analyses may require different subsets, and therefor may change what kind of threshold works best."
   ]
  },
  {
   "cell_type": "markdown",
   "id": "4f49d582-b7a9-4f93-98fa-7c55769daed7",
   "metadata": {},
   "source": [
    "Next, we'll try to narrow down our sample more by ensuring we use only galaxies which have spirals identified. In the meantime, we'll also go make resources for the `available_spiral.npy` path, in case we need to use them."
   ]
  },
  {
   "cell_type": "code",
   "execution_count": null,
   "id": "c263931e-5427-48aa-b5b7-a0c31ffc19e0",
   "metadata": {},
   "outputs": [],
   "source": []
  }
 ],
 "metadata": {
  "kernelspec": {
   "display_name": "Python 3",
   "language": "python",
   "name": "python3"
  },
  "language_info": {
   "codemirror_mode": {
    "name": "ipython",
    "version": 3
   },
   "file_extension": ".py",
   "mimetype": "text/x-python",
   "name": "python",
   "nbconvert_exporter": "python",
   "pygments_lexer": "ipython3",
   "version": "3.9.5"
  }
 },
 "nbformat": 4,
 "nbformat_minor": 5
}
