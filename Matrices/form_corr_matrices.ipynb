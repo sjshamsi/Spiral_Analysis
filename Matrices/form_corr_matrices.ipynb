{
 "cells": [
  {
   "cell_type": "markdown",
   "metadata": {},
   "source": [
    "## Forming correlation matrices for all map shapes\n",
    "\n",
    "We have `shape_list.npy`, which simply contains the SDSS MaNGA map sizes for all maps in our sample. With this, we can form correlation martrices as described in [Westfall et. al. 2019](https://iopscience.iop.org/article/10.3847/1538-3881/ab44a2).\n",
    "\n",
    "$Corr_{ij} = \\rho_{ij}$, where $\\rho_{ij} = e^{-\\frac{1}{2}(\\frac{d_{i,j}}{1.9})^2}$} for $d_{ij} < 6.4$ ($d_{ij}$ is the spaxel distance between two spaxels).\n",
    "\n",
    "With this, we will be able to form correlation matrices for all sizes, and then store them for future use. This is helpful as calculating correlation matrices is resource intensive, and with only a few matrices, we can form all our covariance matrices."
   ]
  },
  {
   "cell_type": "code",
   "execution_count": 3,
   "metadata": {},
   "outputs": [],
   "source": [
    "#import required modules\n",
    "import numpy as np\n",
    "import matplotlib.pyplot as plt\n",
    "\n",
    "import os, sys\n",
    "#sys.path.insert(0, '../') #this might need changing if working across platforms\n",
    "sys.path.append(os.path.abspath('../../GZ3D_production/'))\n",
    "sys.path.append(os.path.abspath('../'))\n",
    "\n",
    "import sfr_methods, spiral_resources"
   ]
  },
  {
   "cell_type": "markdown",
   "metadata": {},
   "source": [
    "This function will create a correlation matrix given an emission map shape."
   ]
  },
  {
   "cell_type": "code",
   "execution_count": 4,
   "metadata": {},
   "outputs": [],
   "source": [
    "def form_corr_matrix(shape):\n",
    "    r, c = shape\n",
    "    \n",
    "    if r != c:\n",
    "        raise ValueError(\"r != c, the dimestions of emission map aren't equal!\")\n",
    "        \n",
    "    corr_matrix = np.zeros((r**2, r**2))\n",
    "    \n",
    "    for i in range(r**2):\n",
    "        for j in range(i, r**2):\n",
    "            if i == j:\n",
    "                corr_matrix[i, j] = 1\n",
    "                continue\n",
    "                \n",
    "            y1 = i // r\n",
    "            x1 = i % r\n",
    "            \n",
    "            y2 = j // r\n",
    "            x2 = j % r\n",
    "            \n",
    "            dist = np.sqrt((x1 - x2)**2 + (y1 - y2)**2)\n",
    "            \n",
    "            if dist < 6.4:\n",
    "                rho = np.exp(-0.5 * (dist / 1.9)**2)\n",
    "            else:\n",
    "                rho = 0\n",
    "                \n",
    "            corr_matrix[i, j] = rho\n",
    "            corr_matrix[j, i] = rho\n",
    "            \n",
    "    return corr_matrix"
   ]
  },
  {
   "cell_type": "code",
   "execution_count": 5,
   "metadata": {},
   "outputs": [
    {
     "ename": "IndentationError",
     "evalue": "expected an indented block (<ipython-input-5-6caee837b981>, line 9)",
     "output_type": "error",
     "traceback": [
      "\u001b[0;36m  File \u001b[0;32m\"<ipython-input-5-6caee837b981>\"\u001b[0;36m, line \u001b[0;32m9\u001b[0m\n\u001b[0;31m    return size_list\u001b[0m\n\u001b[0m    ^\u001b[0m\n\u001b[0;31mIndentationError\u001b[0m\u001b[0;31m:\u001b[0m expected an indented block\n"
     ]
    }
   ],
   "source": [
    "def append_files(dir_path):\n",
    "    size_list = []\n",
    "    \n",
    "    for root, dirs, files in os.walk(dir_path):\n",
    "        for file in files:\n",
    "            if file.endswith(\".npy\"):\n",
    "                \n",
    "                \n",
    "    return size_list"
   ]
  },
  {
   "cell_type": "code",
   "execution_count": null,
   "metadata": {},
   "outputs": [],
   "source": [
    "sizes_done = append_files('/raid5/homes/sshamsi/galaxy_zoo/GZ3D_spiral_analysis/forming_cov_matrices/corr_matrices/')\n",
    "available_gals = np.load('/raid5/homes/sshamsi/galaxy_zoo/GZ3D_spiral_analysis/available_v3_paths.npy')"
   ]
  },
  {
   "cell_type": "code",
   "execution_count": null,
   "metadata": {},
   "outputs": [],
   "source": [
    "sizes_done"
   ]
  },
  {
   "cell_type": "code",
   "execution_count": null,
   "metadata": {},
   "outputs": [],
   "source": [
    "available_gals"
   ]
  },
  {
   "cell_type": "code",
   "execution_count": null,
   "metadata": {},
   "outputs": [],
   "source": [
    "count = 0\n",
    "\n",
    "for path in available_gals:\n",
    "    count += 1\n",
    "    print(count)\n",
    "    \n",
    "    gal = SpiralGalaxy(path)\n",
    "    shape = gal.hamap.shape\n",
    "    ifusize = shape[0]\n",
    "    \n",
    "    if str(ifusize) in sizes_done:\n",
    "        print('Size already done.')\n",
    "        continue\n",
    "        \n",
    "    corr_matrix = form_corr_matrix(shape)\n",
    "    \n",
    "    np.save('corr_matrices/corr_matrix' + str(ifusize), corr_matrix)\n",
    "    print('New size corr saved!')"
   ]
  },
  {
   "cell_type": "code",
   "execution_count": null,
   "metadata": {},
   "outputs": [],
   "source": []
  }
 ],
 "metadata": {
  "kernelspec": {
   "display_name": "Python 3",
   "language": "python",
   "name": "python3"
  },
  "language_info": {
   "codemirror_mode": {
    "name": "ipython",
    "version": 3
   },
   "file_extension": ".py",
   "mimetype": "text/x-python",
   "name": "python",
   "nbconvert_exporter": "python",
   "pygments_lexer": "ipython3",
   "version": "3.9.5"
  }
 },
 "nbformat": 4,
 "nbformat_minor": 4
}
