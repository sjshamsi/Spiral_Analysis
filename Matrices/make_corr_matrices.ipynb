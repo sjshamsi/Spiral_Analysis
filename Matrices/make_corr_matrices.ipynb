{
 "cells": [
  {
   "cell_type": "markdown",
   "metadata": {},
   "source": [
    "## Forming correlation matrices for all map shapes\n",
    "\n",
    "We have `shape_list.npy`, which simply contains the SDSS MaNGA map sizes for all maps in our sample. With this, we can form correlation martrices as described in [Westfall et. al. 2019](https://iopscience.iop.org/article/10.3847/1538-3881/ab44a2).\n",
    "\n",
    "$Corr_{ij} = \\rho_{ij}$, where $\\rho_{ij} = e^{-\\frac{1}{2}(\\frac{d_{i,j}}{1.9})^2}$} for $d_{ij} < 6.4$ ($d_{ij}$ is the spaxel distance between two spaxels).\n",
    "\n",
    "With this, we will be able to form correlation matrices for all sizes, and then store them for future use. This is helpful as calculating correlation matrices is resource intensive, and with only a few matrices, we can form all our covariance matrices."
   ]
  },
  {
   "cell_type": "code",
   "execution_count": 1,
   "metadata": {},
   "outputs": [
    {
     "name": "stderr",
     "output_type": "stream",
     "text": [
      "/home/sshamsi/miniconda3/envs/marvin/lib/python3.9/site-packages/marvin/core/exceptions.py:50: UserWarning: cannot initiate Sentry error reporting: [Errno 25] Inappropriate ioctl for device.\n",
      "  warnings.warn('cannot initiate Sentry error reporting: {0}.'.format(str(ee)),\n",
      "\u001b[0;34m[INFO]: \u001b[0mNo release version set. Setting default to MPL-11\n"
     ]
    }
   ],
   "source": [
    "#import required modules\n",
    "import numpy as np\n",
    "import matplotlib.pyplot as plt\n",
    "from pathlib import Path\n",
    "\n",
    "import sys\n",
    "sys.path.insert(0, '../')\n",
    "\n",
    "import sfr_methods, spiral_resources"
   ]
  },
  {
   "cell_type": "markdown",
   "metadata": {},
   "source": [
    "This function will create a correlation matrix given an emission map shape."
   ]
  },
  {
   "cell_type": "code",
   "execution_count": 2,
   "metadata": {},
   "outputs": [],
   "source": [
    "def form_corr_matrix(r):\n",
    "    corr_matrix = np.zeros((r**2, r**2))\n",
    "    \n",
    "    for i in range(r**2):\n",
    "        for j in range(i, r**2):\n",
    "            if i == j:\n",
    "                corr_matrix[i, j] = 1\n",
    "                continue\n",
    "                \n",
    "            y1 = i // r\n",
    "            x1 = i % r\n",
    "            \n",
    "            y2 = j // r\n",
    "            x2 = j % r\n",
    "            \n",
    "            dist = np.sqrt((x1 - x2)**2 + (y1 - y2)**2)\n",
    "            \n",
    "            if dist < 6.4:\n",
    "                rho = np.exp(-0.5 * (dist / 1.9)**2)\n",
    "            else:\n",
    "                rho = 0\n",
    "                \n",
    "            corr_matrix[i, j] = rho\n",
    "            corr_matrix[j, i] = rho\n",
    "            \n",
    "    return corr_matrix"
   ]
  },
  {
   "cell_type": "code",
   "execution_count": 3,
   "metadata": {},
   "outputs": [],
   "source": [
    "shape_list = np.load('shape_list.npy', allow_pickle=True)"
   ]
  },
  {
   "cell_type": "code",
   "execution_count": 4,
   "metadata": {},
   "outputs": [
    {
     "name": "stdout",
     "output_type": "stream",
     "text": [
      "Size 42 correlation matrix saved!\n",
      "Size 74 correlation matrix saved!\n",
      "Size 34 correlation matrix saved!\n",
      "Size 62 correlation matrix saved!\n",
      "Size 32 correlation matrix saved!\n",
      "Size 54 correlation matrix saved!\n",
      "Size 72 correlation matrix saved!\n",
      "Size 44 correlation matrix saved!\n",
      "Size 64 correlation matrix saved!\n",
      "Size 52 correlation matrix saved!\n",
      "Size 76 correlation matrix saved!\n",
      "Size 56 correlation matrix saved!\n",
      "Size 36 correlation matrix saved!\n",
      "Size 66 correlation matrix saved!\n",
      "Size 46 correlation matrix saved!\n"
     ]
    }
   ],
   "source": [
    "for shape in shape_list:\n",
    "    if Path('corr_matrices/corr_matrix_{}.npy'.format(shape)).is_file():\n",
    "        print('Size {} already done.'.format(shape))\n",
    "        continue\n",
    "        \n",
    "    corr_matrix = form_corr_matrix(shape)\n",
    "    \n",
    "    np.save('corr_matrices/corr_matrix_{}.npy'.format(shape), corr_matrix, allow_pickle=True)\n",
    "    print('Size {} correlation matrix saved!'.format(shape))"
   ]
  },
  {
   "cell_type": "code",
   "execution_count": null,
   "metadata": {},
   "outputs": [],
   "source": []
  }
 ],
 "metadata": {
  "kernelspec": {
   "display_name": "Python 3",
   "language": "python",
   "name": "python3"
  },
  "language_info": {
   "codemirror_mode": {
    "name": "ipython",
    "version": 3
   },
   "file_extension": ".py",
   "mimetype": "text/x-python",
   "name": "python",
   "nbconvert_exporter": "python",
   "pygments_lexer": "ipython3",
   "version": "3.9.7"
  }
 },
 "nbformat": 4,
 "nbformat_minor": 4
}
