{
 "cells": [
  {
   "cell_type": "markdown",
   "metadata": {},
   "source": [
    "# Using Covarience Matrices to Calculate Errors in Custom Bins"
   ]
  },
  {
   "cell_type": "markdown",
   "metadata": {},
   "source": [
    "### Let's get everything we need to set up. Here we will import the MaNGA map for one sample galaxy. "
   ]
  },
  {
   "cell_type": "code",
   "execution_count": 1,
   "metadata": {
    "scrolled": true
   },
   "outputs": [
    {
     "name": "stdout",
     "output_type": "stream",
     "text": [
      "INFO: No release version set. Setting default to MPL-7\n"
     ]
    },
    {
     "name": "stderr",
     "output_type": "stream",
     "text": [
      "/usr/lib/python3.5/importlib/_bootstrap.py:222: RuntimeWarning: numpy.dtype size changed, may indicate binary incompatibility. Expected 96, got 88\n",
      "  return f(*args, **kwds)\n"
     ]
    }
   ],
   "source": [
    "#import required modules\n",
    "import numpy as np\n",
    "import matplotlib.pyplot as plt\n",
    "\n",
    "from marvin.tools.maps import Maps"
   ]
  },
  {
   "cell_type": "code",
   "execution_count": 2,
   "metadata": {},
   "outputs": [
    {
     "name": "stderr",
     "output_type": "stream",
     "text": [
      "/homes/sshamsi/.local/lib/python3.5/site-packages/marvin/tools/maps.py:272: MarvinUserWarning: mismatch between file version=DR15 and object release=MPL-7. Setting object release to DR15\n",
      "  marvin.core.exceptions.MarvinUserWarning)\n"
     ]
    }
   ],
   "source": [
    "ex_map = Maps(\"1-134293\")"
   ]
  },
  {
   "cell_type": "code",
   "execution_count": 3,
   "metadata": {},
   "outputs": [],
   "source": [
    "ha_map = ex_map['emline_gflux_ha_6564']"
   ]
  },
  {
   "cell_type": "markdown",
   "metadata": {},
   "source": [
    "### This function will loop through the emission map and create the covariance matrix."
   ]
  },
  {
   "cell_type": "code",
   "execution_count": 4,
   "metadata": {},
   "outputs": [],
   "source": [
    "def map_covar(emap):\n",
    "    r, c = emap.shape\n",
    "    \n",
    "    if r != c:\n",
    "        raise ValueError(\"r != c, the dimestions of emission map aren't equal!\")\n",
    "        \n",
    "    covar_matrix = np.zeros((r**2, r**2))\n",
    "    \n",
    "    for i in range(r):\n",
    "        for j in range(r):\n",
    "            \n",
    "            for k in range(r):\n",
    "                for h in range(r):\n",
    "                    if (emap.ivar[i, j] == 0) or (emap.ivar[k, h] == 0):\n",
    "                        covar_matrix[(i * r) + j, (k * r) + h] = 0\n",
    "                        continue\n",
    "                    \n",
    "                    dist = np.sqrt((i - k)**2 + (j - h)**2)\n",
    "                    \n",
    "                    if dist < 6.4:\n",
    "                        rho = np.exp(-0.5 * (dist / 1.9)**2)\n",
    "                    else:\n",
    "                        rho = 0\n",
    "                        \n",
    "                    c = rho / np.sqrt(emap.ivar[i, j] * emap.ivar[k, h])\n",
    "                    \n",
    "                    covar_matrix[(i * r) + j, (k * r) + h] = c\n",
    "                    \n",
    "    return covar_matrix"
   ]
  },
  {
   "cell_type": "code",
   "execution_count": 5,
   "metadata": {
    "scrolled": false
   },
   "outputs": [],
   "source": [
    "#let's run the function\n",
    "covar_map = map_covar(ha_map)"
   ]
  },
  {
   "cell_type": "markdown",
   "metadata": {},
   "source": [
    "### Here we can use Matplotlib to visualise the matrix. It's hard to see but there is a diagonal going from the top-left to the bottom-right. This is the sign of a typical covariance matrix."
   ]
  },
  {
   "cell_type": "code",
   "execution_count": 27,
   "metadata": {
    "scrolled": false
   },
   "outputs": [
    {
     "data": {
      "text/plain": [
       "<matplotlib.image.AxesImage at 0x7f976119d7b8>"
      ]
     },
     "execution_count": 27,
     "metadata": {},
     "output_type": "execute_result"
    },
    {
     "data": {
      "image/png": "[encoded data removed]",
      "text/plain": [
       "<Figure size 576x576 with 1 Axes>"
      ]
     },
     "metadata": {},
     "output_type": "display_data"
    }
   ],
   "source": [
    "plt.style.use('seaborn-colorblind')\n",
    "\n",
    "plt.figure(figsize=(8, 8))\n",
    "plt.imshow(covar_map, vmin=0, vmax=0.003)"
   ]
  },
  {
   "cell_type": "code",
   "execution_count": 10,
   "metadata": {},
   "outputs": [
    {
     "data": {
      "text/plain": [
       "0.0"
      ]
     },
     "execution_count": 10,
     "metadata": {},
     "output_type": "execute_result"
    }
   ],
   "source": [
    "covar_map.min()"
   ]
  },
  {
   "cell_type": "markdown",
   "metadata": {},
   "source": [
    "### Next, we get our weight matrix. The weight matrix is the object through which we can define our bins. For example, an (1 x N) matrix could serve as our weight matrix W. Each element in W represents a spaxel in our emission map. Each W element could then either be 1 or 0, depending on if we need the spaxel in our bin or not.\n",
    "\n",
    "### I had originally planned to make a W matrix out of my previous spiral code, but it is a process which will require me to strip down my original code and implement it. Instead, we can pretent that we want a bin in which every other spaxel is included."
   ]
  },
  {
   "cell_type": "code",
   "execution_count": 8,
   "metadata": {},
   "outputs": [],
   "source": [
    "W = np.zeros((1, ha_map.size))\n",
    "\n",
    "for i in range(ha_map.size):\n",
    "    if i%2 == 0:\n",
    "        W[0, i] = 1"
   ]
  },
  {
   "cell_type": "markdown",
   "metadata": {},
   "source": [
    "### We can now perform our linear algebra"
   ]
  },
  {
   "cell_type": "code",
   "execution_count": 9,
   "metadata": {},
   "outputs": [],
   "source": [
    "from numpy import linalg"
   ]
  },
  {
   "cell_type": "code",
   "execution_count": 12,
   "metadata": {},
   "outputs": [],
   "source": [
    "C_result = np.dot(np.dot(W, covar_map), W.T)"
   ]
  },
  {
   "cell_type": "code",
   "execution_count": 13,
   "metadata": {},
   "outputs": [
    {
     "name": "stdout",
     "output_type": "stream",
     "text": [
      "[[12.81917496]]\n"
     ]
    }
   ],
   "source": [
    "print(C_result)"
   ]
  },
  {
   "cell_type": "markdown",
   "metadata": {},
   "source": [
    "### And that is the fractional error on our bin (13 %)."
   ]
  },
  {
   "cell_type": "code",
   "execution_count": 14,
   "metadata": {},
   "outputs": [
    {
     "data": {
      "text/plain": [
       "(<Figure size 432x288 with 2 Axes>,\n",
       " <matplotlib.axes._subplots.AxesSubplot at 0x7fd17fb965f8>)"
      ]
     },
     "execution_count": 14,
     "metadata": {},
     "output_type": "execute_result"
    },
    {
     "data": {
      "image/png": "[encoded data removed]",
      "text/plain": [
       "<Figure size 432x288 with 2 Axes>"
      ]
     },
     "metadata": {},
     "output_type": "display_data"
    }
   ],
   "source": [
    "ha_map.plot()"
   ]
  },
  {
   "cell_type": "code",
   "execution_count": 16,
   "metadata": {},
   "outputs": [
    {
     "data": {
      "text/plain": [
       "(1, 2916)"
      ]
     },
     "execution_count": 16,
     "metadata": {},
     "output_type": "execute_result"
    }
   ],
   "source": [
    "W.shape"
   ]
  },
  {
   "cell_type": "code",
   "execution_count": null,
   "metadata": {},
   "outputs": [],
   "source": []
  }
 ],
 "metadata": {
  "kernelspec": {
   "display_name": "Python 3",
   "language": "python",
   "name": "python3"
  },
  "language_info": {
   "codemirror_mode": {
    "name": "ipython",
    "version": 3
   },
   "file_extension": ".py",
   "mimetype": "text/x-python",
   "name": "python",
   "nbconvert_exporter": "python",
   "pygments_lexer": "ipython3",
   "version": "3.5.2"
  }
 },
 "nbformat": 4,
 "nbformat_minor": 4
}
