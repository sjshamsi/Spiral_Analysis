{
 "cells": [
  {
   "cell_type": "code",
   "execution_count": null,
   "metadata": {},
   "outputs": [],
   "source": [
    "import sys\n",
    "sys.path.insert(0, '/home/sshamsi_haverford_edu/galaxy_zoo/GZ3D_spiral_analysis/')"
   ]
  },
  {
   "cell_type": "code",
   "execution_count": null,
   "metadata": {},
   "outputs": [],
   "source": [
    "import sys\n",
    "sys.path.insert(0, '/home/sshamsi_haverford_edu/galaxy_zoo/Spiral_Reduce_Memory/')"
   ]
  },
  {
   "cell_type": "code",
   "execution_count": null,
   "metadata": {},
   "outputs": [],
   "source": [
    "import spiral_resources\n",
    "import sfr_methods"
   ]
  },
  {
   "cell_type": "code",
   "execution_count": null,
   "metadata": {},
   "outputs": [],
   "source": [
    "import numpy as np\n",
    "import os"
   ]
  },
  {
   "cell_type": "code",
   "execution_count": null,
   "metadata": {},
   "outputs": [],
   "source": [
    "def append_files(dir_path):\n",
    "    cov_list = []\n",
    "    \n",
    "    for root, dirs, files in os.walk(dir_path):\n",
    "        for file in files:\n",
    "            if file.endswith(\".npy\"):\n",
    "                filename = file.split('.')[0]\n",
    "                cov_list.append(filename)\n",
    "                \n",
    "    return cov_list"
   ]
  },
  {
   "cell_type": "code",
   "execution_count": null,
   "metadata": {},
   "outputs": [],
   "source": [
    "available_v3_paths = np.load('/home/sshamsi_haverford_edu/galaxy_zoo/GZ3D_spiral_analysis/available_v3_paths.npy')"
   ]
  },
  {
   "cell_type": "code",
   "execution_count": null,
   "metadata": {},
   "outputs": [],
   "source": [
    "cov_done = append_files('/home/sshamsi_haverford_edu/galaxy_zoo/GZ3D_spiral_analysis/Matrices/cov_matrices/')"
   ]
  },
  {
   "cell_type": "code",
   "execution_count": null,
   "metadata": {},
   "outputs": [],
   "source": [
    "available_v3_paths_working = np.load('available_v3_paths_working.npy')\n",
    "available_v3_paths_notworking = np.load('available_v3_paths_notworking.npy')"
   ]
  },
  {
   "cell_type": "code",
   "execution_count": null,
   "metadata": {},
   "outputs": [],
   "source": [
    "total_count = 0\n",
    "\n",
    "for path in available_v3_paths:\n",
    "    total_count += 1\n",
    "    print('Total: ', total_count)\n",
    "    \n",
    "    filename = path.split('/')[-1].split('.')[0]\n",
    "    \n",
    "    if ((filename + 'ha') in cov_done) and ((filename + 'hb') in cov_done):\n",
    "        if path not in available_v3_paths_working:\n",
    "            available_v3_paths_working = np.append(available_v3_paths_working, path)\n",
    "            \n",
    "        print('Already done\\n')\n",
    "        continue\n",
    "    \n",
    "    galdict = spiral_resources.return_dict(path)\n",
    "    galdf = spiral_resources.return_df(galdict)\n",
    "\n",
    "    ha_cov = sfr_methods.cov_matrix_maker(galdict['map_shape'], galdf['$\\sigma H_{\\\\alpha}$'])\n",
    "    hb_cov = sfr_methods.cov_matrix_maker(galdict['map_shape'], galdf['$\\sigma H_{\\\\beta}$'])\n",
    "\n",
    "    np.save('cov_matrices/' + filename + 'ha', ha_cov)\n",
    "    np.save('cov_matrices/' + filename + 'hb', hb_cov)\n",
    "\n",
    "    if path not in available_v3_paths_working:\n",
    "        available_v3_paths_working = np.append(available_v3_paths_working, path)\n",
    "        \n",
    "\n",
    "np.save('/home/sshamsi_haverford_edu/galaxy_zoo/GZ3D_spiral_analysis/Matrices/available_v3_paths_working', available_v3_paths_working)\n",
    "np.save('/home/sshamsi_haverford_edu/galaxy_zoo/GZ3D_spiral_analysis/Matrices/available_v3_paths_notworking', available_v3_paths_notworking)"
   ]
  },
  {
   "cell_type": "code",
   "execution_count": null,
   "metadata": {
    "scrolled": true
   },
   "outputs": [],
   "source": [
    "total_count = 0\n",
    "\n",
    "for path in available_v3_paths:\n",
    "    total_count += 1\n",
    "    print('Total: ', total_count)\n",
    "    \n",
    "    filename = path.split('/')[-1].split('.')[0]\n",
    "    \n",
    "    if ((filename + 'ha') in cov_done) and ((filename + 'hb') in cov_done):\n",
    "        if path not in available_v3_paths_working:\n",
    "            available_v3_paths_working = np.append(available_v3_paths_working, path)\n",
    "            \n",
    "        print('Already done\\n')\n",
    "        continue\n",
    "    \n",
    "    try:\n",
    "        galdict = spiral_resources.return_dict(path)\n",
    "        galdf = spiral_resources.return_df(galdict)\n",
    "        \n",
    "        ha_cov = sfr_methods.cov_matrix_maker(galdict['map_shape'], galdfdf['$\\sigma H_{\\\\alpha}$'])\n",
    "        hb_cov = sfr_methods.cov_matrix_maker(galdict['map_shape'], galdfdf['$\\sigma H_{\\\\beta}$'])\n",
    "        \n",
    "        np.save('cov_matrices/' + filename + 'ha', ha_cov)\n",
    "        np.save('cov_matrices/' + filename + 'hb', hb_cov)\n",
    "        \n",
    "        if path not in available_v3_paths_working:\n",
    "            available_v3_paths_working = np.append(available_v3_paths_working, path)\n",
    "        \n",
    "    except:\n",
    "        print(filename, \" didn't work, whoops.\")\n",
    "        \n",
    "        if path not in available_v3_paths_notworking:\n",
    "            available_v3_paths_notworking = np.append(available_v3_paths_notworking, path)\n",
    "        \n",
    "\n",
    "np.save('/home/sshamsi_haverford_edu/galaxy_zoo/GZ3D_spiral_analysis/Matrices/available_v3_paths_working', available_v3_paths_working)\n",
    "np.save('/home/sshamsi_haverford_edu/galaxy_zoo/GZ3D_spiral_analysis/Matrices/available_v3_paths_notworking', available_v3_paths_notworking)"
   ]
  },
  {
   "cell_type": "code",
   "execution_count": null,
   "metadata": {},
   "outputs": [],
   "source": []
  }
 ],
 "metadata": {
  "kernelspec": {
   "display_name": "Python 3",
   "language": "python",
   "name": "python3"
  },
  "language_info": {
   "codemirror_mode": {
    "name": "ipython",
    "version": 3
   },
   "file_extension": ".py",
   "mimetype": "text/x-python",
   "name": "python",
   "nbconvert_exporter": "python",
   "pygments_lexer": "ipython3",
   "version": "3.9.2"
  }
 },
 "nbformat": 4,
 "nbformat_minor": 2
}
