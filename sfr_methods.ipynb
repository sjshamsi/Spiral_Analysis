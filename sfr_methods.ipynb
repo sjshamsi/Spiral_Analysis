{
 "cells": [
  {
   "cell_type": "code",
   "execution_count": 1,
   "metadata": {},
   "outputs": [],
   "source": [
    "import pathlib\n",
    "import numpy as np\n",
    "import pandas as pd\n",
    "from skimage.draw import disk\n",
    "from scipy.sparse import csc_matrix, save_npz, load_npz"
   ]
  },
  {
   "cell_type": "code",
   "execution_count": 2,
   "metadata": {},
   "outputs": [],
   "source": [
    "def flux2sfr(ha_flux, ha_stdv, hb_flux, hb_stdv, galdict, avg=False):\n",
    "    '''Take an H-alpha and H-beta flux, and then make an SFR measurement out of them.'''\n",
    "    \n",
    "    ha_flux = ha_flux * 1E-13\n",
    "    hb_flux = hb_flux * 1E-13\n",
    "    ha_stdv = ha_stdv * 1E-13\n",
    "    hb_stdv = hb_stdv * 1E-13\n",
    "    \n",
    "    sfr = (galdict['delta'] * (ha_flux**3.36) * (hb_flux**-2.36))\n",
    "    sfr_stdv = np.sqrt((3.36 * galdict['delta'] * (ha_flux**2.36) * (hb_flux**-2.36) * ha_stdv)**2 +\n",
    "                       (-2.36 * galdict['delta'] * (ha_flux**3.36) * (hb_flux**-3.36) * hb_stdv)**2)\n",
    "    \n",
    "    if avg:\n",
    "        return sfr / galdict['spax_area'], sfr_stdv / galdict['spax_area']\n",
    "    \n",
    "    return sfr, sfr_stdv"
   ]
  },
  {
   "cell_type": "code",
   "execution_count": 3,
   "metadata": {},
   "outputs": [],
   "source": [
    "def sparse_arr_maker(map_shape, valid_indices, err_array):\n",
    "    cache = {}\n",
    "    sparse_rows = np.array([], dtype=int)\n",
    "    sparse_cols = np.array([], dtype=int)\n",
    "    sparse_vals = np.array([])\n",
    "    \n",
    "    for ind1 in valid_indices:\n",
    "        err1 = err_array[ind1]\n",
    "        i, j = ind1 // map_shape[0], ind1 % map_shape[0]\n",
    "        indices = disk((i, j), 6.4, shape=map_shape)\n",
    "        cache[ind1] = {}\n",
    "        \n",
    "        for k, l in zip(indices[0], indices[1]):\n",
    "            ind2 = k * map_shape[0] + l\n",
    "            \n",
    "            if ind1 == ind2:\n",
    "                val = err1**2\n",
    "                sparse_rows = np.append(sparse_rows, ind1)\n",
    "                sparse_cols = np.append(sparse_cols, ind2)\n",
    "                sparse_vals = np.append(sparse_vals, val)\n",
    "                continue\n",
    "                \n",
    "            err2 = err_array[ind2]\n",
    "            if np.isnan(err2):\n",
    "                continue\n",
    "                \n",
    "            if (ind2 in cache) and (ind1 in cache[ind2]):\n",
    "                continue\n",
    "            \n",
    "            dist = np.sqrt((i - k)**2 + (j - l)**2)\n",
    "            val = np.exp(-0.5 * (dist / 1.9)**2) * err1 * err2\n",
    "            \n",
    "            sparse_rows = np.append(sparse_rows, [ind1, ind2])\n",
    "            sparse_cols = np.append(sparse_cols, [ind2, ind1])\n",
    "            sparse_vals = np.append(sparse_vals, [val, val])\n",
    "            \n",
    "            cache[ind1][ind2] = val\n",
    "            \n",
    "    return sparse_rows, sparse_cols, sparse_vals"
   ]
  },
  {
   "cell_type": "code",
   "execution_count": 4,
   "metadata": {},
   "outputs": [],
   "source": [
    "def ret_cov_matrices(df, galdict, mode=None, save_matrix=True):\n",
    "    '''This method loads and returns the H-a/H-b covariance matrix. If not available,\n",
    "    it calculates it, which is resource intensive.'''\n",
    "    if mode == None:\n",
    "        raise ValueError('Argument \"mode\" must be set to \"Ha\" or \"Hb\".')\n",
    "        \n",
    "    cov_file = pathlib.Path('/home/sshamsi/galaxyzoo/Spiral_Analysis/Matrices/Sparse_Covariance_Matrices/'\n",
    "                            + galdict['filename'] + '.' + mode + '.npz')\n",
    "    if cov_file.exists():\n",
    "        cov_matrix = load_npz(str(cov_file.resolve()))\n",
    "    else:\n",
    "        print(mode, 'covariance file does not exist. Calculating...')\n",
    "        cov_matrix_shape = (galdict['map_shape'][0]**2, galdict['map_shape'][0]**2)\n",
    "        valid_indices = df.dropna().index.to_numpy()\n",
    "        err_array = df['sig_' + mode].to_numpy()\n",
    "        \n",
    "        rows, cols, data = sparse_arr_maker(galdict['map_shape'], valid_indices, err_array)\n",
    "        cov_matrix = csc_matrix((data, (rows, cols)), shape=cov_matrix_shape)\n",
    "        \n",
    "        if save_matrix:\n",
    "            save_npz('/home/sshamsi/galaxyzoo/Spiral_Analysis/Matrices/Sparse_Covariance_Matrices/'\n",
    "                     + galdict['filename'] + '.' + mode, cov_matrix)\n",
    "        \n",
    "    return cov_matrix"
   ]
  },
  {
   "cell_type": "code",
   "execution_count": 5,
   "metadata": {},
   "outputs": [],
   "source": [
    "def get_sfr(spax_bin, df, galdict, avg=False):\n",
    "    '''Return the SFR for a bin of spaxels.'''\n",
    "    if len(spax_bin) == 0:\n",
    "        raise ValueError('The spaxel_bin array must not be empty.')\n",
    "        \n",
    "    ha_flux, ha_stdv = get_emission(bin_index, df, galdict, mode='Ha', avg=avg)\n",
    "    hb_flux, hb_stdv = get_emission(bin_index, df, galdict, mode='Hb', avg=avg)\n",
    "        \n",
    "    return flux2sfr(ha_flux, ha_stdv, hb_flux, hb_stdv, galdict, avg=avg)"
   ]
  },
  {
   "cell_type": "code",
   "execution_count": 6,
   "metadata": {},
   "outputs": [],
   "source": [
    "def get_emission(spax_bin, df, galdict, mode=None, avg=False):\n",
    "    '''Return the H-a or H-b flux.'''\n",
    "    \n",
    "    if mode not in ['Ha', 'Hb']:\n",
    "        raise ValueError('Argument \"mode\" must be set to \"Ha\" or \"Hb\".')\n",
    "    if len(spax_bin) == 0:\n",
    "        raise ValueError('The spaxel_bin array must not be empty.')\n",
    "    \n",
    "    summ = df.loc[spax_bin.tolist(), mode].sum()\n",
    "    \n",
    "    w_vals = np.ones(len(spax_bin))\n",
    "    w_rows = np.zeros(len(spax_bin))\n",
    "    w_vec = csc_matrix((w_vals, (w_rows, spax_bin)), shape=(1, len(df)))\n",
    "    cov_mat = ret_cov_matrices(df, galdict, mode=mode)\n",
    "    var = w_vec.dot(cov_mat.dot(w_vec.transpose()))[0, 0]\n",
    "    \n",
    "    if avg:\n",
    "        n = len(spax_bin)\n",
    "        return summ / n, np.sqrt(var / (n**2))\n",
    "    \n",
    "    return summ, np.sqrt(var)"
   ]
  }
 ],
 "metadata": {
  "kernelspec": {
   "display_name": "Python 3",
   "language": "python",
   "name": "python3"
  },
  "language_info": {
   "codemirror_mode": {
    "name": "ipython",
    "version": 3
   },
   "file_extension": ".py",
   "mimetype": "text/x-python",
   "name": "python",
   "nbconvert_exporter": "python",
   "pygments_lexer": "ipython3",
   "version": "3.9.7"
  }
 },
 "nbformat": 4,
 "nbformat_minor": 4
}
