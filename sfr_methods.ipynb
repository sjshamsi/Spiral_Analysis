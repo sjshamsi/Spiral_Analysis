{
 "cells": [
  {
   "cell_type": "code",
   "execution_count": 1,
   "metadata": {},
   "outputs": [],
   "source": [
    "import pathlib\n",
    "import numpy as np\n",
    "import pandas as pd"
   ]
  },
  {
   "cell_type": "code",
   "execution_count": 2,
   "metadata": {},
   "outputs": [],
   "source": [
    "def flux2sfr(ha_flux, ha_stdv, hb_flux, hb_stdv, galdict, avg=False):\n",
    "    '''Take an H-alpha and H-beta flux, and then make an SFR measurement out of them.'''\n",
    "    \n",
    "    ha_flux = ha_flux * 1E-13\n",
    "    hb_flux = hb_flux * 1E-13\n",
    "\n",
    "    ha_stdv = ha_stdv * 1E-13\n",
    "    hb_stdv = hb_stdv * 1E-13\n",
    "    \n",
    "    sfr = (galdict['delta'] * (ha_flux**3.36) * (hb_flux**-2.36))\n",
    "    sfr_stdv = np.sqrt((3.36 * galdict['delta'] * (ha_flux**2.36) * (hb_flux**-2.36) * ha_stdv)**2 +\n",
    "                       (-2.36 * galdict['delta'] * (ha_flux**3.36) * (hb_flux**-3.36) * hb_stdv)**2)\n",
    "    \n",
    "    if avg:\n",
    "        return sfr / galdict['spax_area'], sfr_stdv / galdict['spax_area']\n",
    "    \n",
    "    return sfr, sfr_stdv"
   ]
  },
  {
   "cell_type": "code",
   "execution_count": 3,
   "metadata": {},
   "outputs": [],
   "source": [
    "def cov_matrix_maker(mapshape, err_series):\n",
    "    '''Calculates the covaraince matrix for our galaxy.That is rather intensive.'''\n",
    "    \n",
    "    corr_matrix = np.load('/home/sshamsi_haverford_edu/galaxy_zoo/GZ3D_spiral_analysis/Matrices/corr_matrices/corr_matrix' + str(mapshape[0]) + '.npy')\n",
    "    \n",
    "    r = mapshape[0]**2\n",
    "    cov_mat = np.zeros((r, r))\n",
    "    \n",
    "    for item, frame in err_series.iteritems():\n",
    "        if pd.isnull(frame):\n",
    "            k = 0\n",
    "        else:\n",
    "            k = frame\n",
    "            \n",
    "        cov_mat[item] = corr_matrix[item] * k\n",
    "        cov_mat[:, item] = corr_matrix[:, item] * k\n",
    "        \n",
    "    return cov_mat"
   ]
  },
  {
   "cell_type": "code",
   "execution_count": 4,
   "metadata": {},
   "outputs": [],
   "source": [
    "def ret_cov_matrices(df, galdict, mode=None):\n",
    "    '''This method loads and returns the H-a/H-b covariance matrix. If not available,\n",
    "    it calculates it, which is resource intensive.'''\n",
    "    \n",
    "    if mode == None:\n",
    "        raise ValueError('Argument \"mode\" must be set to \"ha\" or \"hb\".')\n",
    "        \n",
    "    elif mode == 'ha':\n",
    "        hafile = pathlib.Path(\"/home/sshamsi_haverford_edu/galaxy_zoo/GZ3D_spiral_analysis/Matrices/cov_matrices/\" + galdict['filename'].split('.')[0] + 'ha.npy')\n",
    "        \n",
    "        if hafile.exists():\n",
    "            ha_cov = np.load(hafile)\n",
    "            return ha_cov\n",
    "        \n",
    "        else:\n",
    "            print(\"H-a covariance file does not exist. Calculating...\")\n",
    "            ha_cov = cov_matrix_maker(galdict['map_shape'], df['$\\sigma H_{\\\\alpha}$'])\n",
    "            return ha_cov\n",
    "        \n",
    "    elif mode == 'hb':\n",
    "        hbfile = pathlib.Path(\"/homes/sshamsi_haverford_edu/galaxy_zoo/GZ3D_spiral_analysis/Matrices/cov_matrices/\" + galdict['filename'].split('.')[0] + 'hb.npy')\n",
    "        \n",
    "        if hbfile.exists():\n",
    "            hb_cov = np.load(hbfile)\n",
    "            return hb_cov\n",
    "        \n",
    "        else:\n",
    "            print(\"H-b covariance file does not exist. Calculating...\")\n",
    "            hb_cov = cov_matrix_maker(galdict['map_shape'], df['$\\sigma H_{\\\\beta}$'])\n",
    "            return hb_cov"
   ]
  },
  {
   "cell_type": "code",
   "execution_count": 5,
   "metadata": {},
   "outputs": [],
   "source": [
    "def get_sfr(bin_index, df, galdict, avg=False):\n",
    "    '''Return the SFR for a bin of spxels.'''\n",
    "    \n",
    "    ha_flux, ha_stdv = get_emission(bin_index, df, galdict, mode='ha', avg=avg)\n",
    "    hb_flux, hb_stdv = get_emission(bin_index, df, galdict, mode='hb', avg=avg)\n",
    "    \n",
    "    if ha_flux == 0 or hb_flux == 0:\n",
    "        print(\"Returning SFR = 0 as bin results in Ha or Hb == 0. MaNGA ID:\", galdict['mangaid'])\n",
    "        return 0, 0\n",
    "        \n",
    "    return flux2sfr(ha_flux, ha_stdv, hb_flux, hb_stdv, galdict, avg=avg)"
   ]
  },
  {
   "cell_type": "code",
   "execution_count": 6,
   "metadata": {},
   "outputs": [],
   "source": [
    "def get_emission(bin_index, df, galdict, mode=None, avg=False):\n",
    "    '''Return the H-a or H-b flux.'''\n",
    "    \n",
    "    if len(bin_index) == 0:\n",
    "        print('Returning', mode, 'emission = 0 as no spaxels in bin. MaNGA ID:', galdict['mangaid'])\n",
    "        return 0, 0\n",
    "    \n",
    "    set_index = set(bin_index)\n",
    "    tot_index = list(df.index)\n",
    "    \n",
    "    w_vec = np.array([[x in set_index for x in tot_index]]) * 1\n",
    "    \n",
    "    if mode == None:\n",
    "        raise ValueError('Argument \"mode\" must be \"ha\", or \"hb\".')\n",
    "    elif mode == 'ha':\n",
    "        summ = df.loc[bin_index.tolist(), '$H_{\\\\alpha}$'].sum()\n",
    "        \n",
    "        ha_cov = ret_cov_matrices(df, galdict, mode=mode)\n",
    "        cov_mat = ha_cov\n",
    "    elif mode == 'hb':\n",
    "        summ = df.loc[bin_index.tolist(), '$H_{\\\\beta}$'].sum()\n",
    "        \n",
    "        hb_cov = ret_cov_matrices(df, galdict, mode=mode)\n",
    "        cov_mat = hb_cov\n",
    "        \n",
    "    var = np.linalg.multi_dot([w_vec, cov_mat, w_vec.T])[0][0]\n",
    "\n",
    "    if avg:\n",
    "        n = len(bin_index)\n",
    "        return summ / n, np.sqrt(var / (n**2))\n",
    "    \n",
    "    return summ, np.sqrt(var)"
   ]
  },
  {
   "cell_type": "code",
   "execution_count": null,
   "metadata": {},
   "outputs": [],
   "source": []
  }
 ],
 "metadata": {
  "kernelspec": {
   "display_name": "Python 3",
   "language": "python",
   "name": "python3"
  },
  "language_info": {
   "codemirror_mode": {
    "name": "ipython",
    "version": 3
   },
   "file_extension": ".py",
   "mimetype": "text/x-python",
   "name": "python",
   "nbconvert_exporter": "python",
   "pygments_lexer": "ipython3",
   "version": "3.9.5"
  }
 },
 "nbformat": 4,
 "nbformat_minor": 4
}
