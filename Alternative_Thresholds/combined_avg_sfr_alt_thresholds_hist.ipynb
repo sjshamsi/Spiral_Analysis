{
 "cells": [
  {
   "cell_type": "code",
   "execution_count": 1,
   "id": "039686b6",
   "metadata": {},
   "outputs": [],
   "source": [
    "import matplotlib.pyplot as plt\n",
    "import numpy as np\n",
    "import pickle\n",
    "import os, sys\n",
    "import pandas as pd"
   ]
  },
  {
   "cell_type": "code",
   "execution_count": 2,
   "id": "0209ab21",
   "metadata": {},
   "outputs": [],
   "source": [
    "sys.path.append(os.path.abspath('../'))\n",
    "\n",
    "import sfr_methods\n"
   ]
  },
  {
   "cell_type": "code",
   "execution_count": null,
   "id": "1457fb76",
   "metadata": {},
   "outputs": [],
   "source": [
    "plt.style.use('seaborn')\n",
    "plt.style.use('seaborn-colorblind')"
   ]
  },
  {
   "cell_type": "code",
   "execution_count": null,
   "id": "f5b3f53d",
   "metadata": {},
   "outputs": [],
   "source": [
    "usable_paths = np.load('../usable_v3_paths.npy')"
   ]
  },
  {
   "cell_type": "code",
   "execution_count": null,
   "id": "01158e35",
   "metadata": {},
   "outputs": [],
   "source": [
    "def integrated_sfr(galdf, galdict, avg, threshold):\n",
    "    df = galdf.copy()\n",
    "    \n",
    "    df = df.dropna()\n",
    "    df = df[(df['$r/r_e$'] < 1.5) & (df['$r/r_e$'] > 0.1)]\n",
    "    df = df[(df['Comp'] == 0) & (df['AGN'] == 0) & (df['Seyfert'] == 0) & (df['Liner'] == 0)]\n",
    "    df = df[(df['Spiral Arm ' + str(threshold)] == True) | (df['Nonspiral Arm ' + str(threshold)] == True)]\n",
    "    \n",
    "    spiral_df = df[df['Spiral Arm ' + str(threshold)] == True]\n",
    "    nspiral_df = df[df['Nonspiral Arm ' + str(threshold)] == True]\n",
    "    \n",
    "    spiral_sfr, sig_spiral_sfr = sfr_methods.get_sfr(spiral_df.index, galdf, galdict, avg=avg)\n",
    "    nspiral_sfr, sig_nspiral_sfr = sfr_methods.get_sfr(nspiral_df.index, galdf, galdict, avg=avg)\n",
    "    combined_sfr, sig_combined_sfr = sfr_methods.get_sfr(df.index, galdf, galdict, avg=avg)\n",
    "    \n",
    "    return spiral_sfr, sig_spiral_sfr, nspiral_sfr, sig_nspiral_sfr, combined_sfr, sig_combined_sfr"
   ]
  },
  {
   "cell_type": "code",
   "execution_count": null,
   "id": "104183f8",
   "metadata": {},
   "outputs": [],
   "source": [
    "def load_dict(path):\n",
    "    with open(path, 'rb') as f:\n",
    "        return pickle.load(f)"
   ]
  },
  {
   "cell_type": "code",
   "execution_count": null,
   "id": "745b7be9",
   "metadata": {},
   "outputs": [],
   "source": [
    "def calculate_stdv(series):\n",
    "    mean = series.mean()\n",
    "    \n",
    "    summ = 0\n",
    "    for element in series:\n",
    "        summ = summ + (element - mean)**2\n",
    "    \n",
    "    return np.sqrt(summ / len(series))"
   ]
  },
  {
   "cell_type": "code",
   "execution_count": null,
   "id": "5c4a5e15",
   "metadata": {},
   "outputs": [],
   "source": [
    "dict_list = []\n",
    "df_list = []\n",
    "\n",
    "for path in usable_paths:\n",
    "    filename = path.split('/')[-1].split('.')[0]\n",
    "    \n",
    "    galdict = load_dict('../Form_Resources/Dicts_Avg_SFR_Thresholds//' + filename + '.dict.pkl')\n",
    "    galdf = pd.read_pickle('../Form_Resources/DFs/' + filename + '.df.pkl')\n",
    "    \n",
    "    dict_list.append(galdict)\n",
    "    df_list.append(galdf)"
   ]
  },
  {
   "cell_type": "code",
   "execution_count": null,
   "id": "17223753",
   "metadata": {},
   "outputs": [],
   "source": [
    "main_df = pd.DataFrame(dict_list)"
   ]
  },
  {
   "cell_type": "code",
   "execution_count": null,
   "id": "64fbc3df",
   "metadata": {},
   "outputs": [],
   "source": [
    "main_df"
   ]
  },
  {
   "cell_type": "code",
   "execution_count": null,
   "id": "aaefd8ab",
   "metadata": {},
   "outputs": [],
   "source": [
    "thresholds = []\n",
    "\n",
    "for i in range(1, 8):\n",
    "    for j in range(1, 8):\n",
    "        thresholds.append((i, j))"
   ]
  },
  {
   "cell_type": "code",
   "execution_count": null,
   "id": "6128b4b2",
   "metadata": {},
   "outputs": [],
   "source": [
    "for threshold in thresholds:\n",
    "    main_df['(spiral - nspiral)/nspiral ' + str(threshold)] = (main_df['avg_spiral_sfr ' + str(threshold)] - main_df['avg_nonspiral_sfr ' + str(threshold)]) / main_df['avg_nonspiral_sfr ' + str(threshold)]\n",
    "    main_df['sig(spiral - nspiral)/nspiral ' + str(threshold)] = main_df['(spiral - nspiral)/nspiral ' + str(threshold)] * ((main_df['sig_avg_spiral_sfr ' + str(threshold)] / main_df['avg_spiral_sfr ' + str(threshold)])**2 + (main_df['sig_avg_nonspiral_sfr ' + str(threshold)] / main_df['avg_nonspiral_sfr ' + str(threshold)])**2)**0.5"
   ]
  },
  {
   "cell_type": "code",
   "execution_count": null,
   "id": "1574fd61",
   "metadata": {
    "scrolled": true
   },
   "outputs": [],
   "source": [
    "main_df"
   ]
  },
  {
   "cell_type": "code",
   "execution_count": null,
   "id": "8010bc15",
   "metadata": {},
   "outputs": [],
   "source": [
    "thresholds_odd = []\n",
    "\n",
    "for i in range(1, 8, 2):\n",
    "    for j in range(1, 8, 2):\n",
    "        thresholds_odd.append((i, j))"
   ]
  },
  {
   "cell_type": "code",
   "execution_count": null,
   "id": "d696203e",
   "metadata": {},
   "outputs": [],
   "source": [
    "fig, axes = plt.subplots(4, 4, figsize=(42, 32))\n",
    "\n",
    "for i in range(4):\n",
    "    for j in range(4):\n",
    "        filtered_df = main_df[main_df['(spiral - nspiral)/nspiral ' + str(thresholds_odd[i*4 + j])] < 10]\n",
    "        series = filtered_df['(spiral - nspiral)/nspiral ' + str(thresholds_odd[i*4 + j])]\n",
    "        axes[i, j].hist(series, bins=20)\n",
    "        axes[i, j].tick_params(axis=\"x\", labelsize=20)\n",
    "        axes[i, j].set_yticks([])\n",
    "        \n",
    "        mean_series = series.mean()\n",
    "        median_series = series.median()\n",
    "        stdv_series = calculate_stdv(series)\n",
    "        \n",
    "        axes[i, j].axvline(median_series, linestyle='--', linewidth=3, alpha=0.3, color='k',\n",
    "                           label='Median = {:.4}%'.format(median_series))\n",
    "        axes[i, j].axvline(mean_series, linestyle='-', linewidth=2.5, alpha=0.8, color='white',\n",
    "                           label='Mean = {:.4}%'.format(mean_series))\n",
    "        axes[i, j].axvspan(mean_series - stdv_series, mean_series + stdv_series, alpha=0.15, color='purple',\n",
    "                           label='$\\sigma$ = {:.4}%'.format(stdv_series))\n",
    "        \n",
    "        axes[i, j].set_title('Sample: {} Galaxies'.format(len(series)), fontsize=20)\n",
    "        axes[i, j].legend(fontsize=20)\n",
    "\n",
    "        \n",
    "for i in range(4):\n",
    "    axes[3, i].set_xlabel('Non-spiral Threshold: ' + str(i * 2 + 1), size=40, labelpad=40)\n",
    "    \n",
    "for i in range(4):\n",
    "    axes[i, 0].set_ylabel('Spiral Threshold: ' + str(i * 2 + 1), size=40, labelpad=50)\n",
    "    \n",
    "plt.subplots_adjust(wspace=0.01, hspace=0.2)"
   ]
  },
  {
   "cell_type": "code",
   "execution_count": null,
   "id": "862cb930",
   "metadata": {},
   "outputs": [],
   "source": []
  }
 ],
 "metadata": {
  "kernelspec": {
   "display_name": "Python 3",
   "language": "python",
   "name": "python3"
  },
  "language_info": {
   "codemirror_mode": {
    "name": "ipython",
    "version": 3
   },
   "file_extension": ".py",
   "mimetype": "text/x-python",
   "name": "python",
   "nbconvert_exporter": "python",
   "pygments_lexer": "ipython3",
   "version": "3.9.5"
  }
 },
 "nbformat": 4,
 "nbformat_minor": 5
}
