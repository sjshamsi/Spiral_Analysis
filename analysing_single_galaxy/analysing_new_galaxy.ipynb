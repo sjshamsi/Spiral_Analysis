{
 "cells": [
  {
   "cell_type": "code",
   "execution_count": 1,
   "id": "035a7803-6c95-471a-96a2-5967e884e20b",
   "metadata": {},
   "outputs": [],
   "source": [
    "ex_path = '/home/sshamsi/sas/mangawork/manga/sandbox/galaxyzoo3d/v3_0_0/1-106630_127_14715787.fits.gz'"
   ]
  },
  {
   "cell_type": "code",
   "execution_count": 2,
   "id": "dcb662f9-1abf-4d6a-a0c8-a634e3b9ebd1",
   "metadata": {},
   "outputs": [
    {
     "name": "stderr",
     "output_type": "stream",
     "text": [
      "/home/sshamsi/miniconda3/envs/marvin/lib/python3.9/site-packages/marvin/core/exceptions.py:50: UserWarning: cannot initiate Sentry error reporting: [Errno 25] Inappropriate ioctl for device.\n",
      "  warnings.warn('cannot initiate Sentry error reporting: {0}.'.format(str(ee)),\n",
      "\u001b[0;34m[INFO]: \u001b[0mNo release version set. Setting default to MPL-11\n",
      "\u001b[1;33m[WARNING]: \u001b[0m\u001b[0;39mnp.asscalar(a) is deprecated since NumPy v1.16, use a.item() instead\u001b[0m \u001b[0;36m(DeprecationWarning)\u001b[0m\n",
      "\u001b[1;33m[WARNING]: \u001b[0m\u001b[0;39mnp.asscalar(a) is deprecated since NumPy v1.16, use a.item() instead\u001b[0m \u001b[0;36m(DeprecationWarning)\u001b[0m\n"
     ]
    }
   ],
   "source": [
    "import spiral_resources\n",
    "import sfr_methods\n",
    "\n",
    "ex_dict = spiral_resources.return_dict(ex_path)\n",
    "ex_df = spiral_resources.return_df(ex_dict)"
   ]
  },
  {
   "cell_type": "code",
   "execution_count": 3,
   "id": "232c5370-cff7-4345-9685-35eb09a9fef3",
   "metadata": {},
   "outputs": [],
   "source": [
    "sub_ex_df = ex_df[ex_df.radius < 10]"
   ]
  },
  {
   "cell_type": "code",
   "execution_count": 4,
   "id": "3f6ff343-c9b4-41ce-9bdc-92977275cd2a",
   "metadata": {},
   "outputs": [
    {
     "data": {
      "text/html": [
       "<div>\n",
       "<style scoped>\n",
       "    .dataframe tbody tr th:only-of-type {\n",
       "        vertical-align: middle;\n",
       "    }\n",
       "\n",
       "    .dataframe tbody tr th {\n",
       "        vertical-align: top;\n",
       "    }\n",
       "\n",
       "    .dataframe thead th {\n",
       "        text-align: right;\n",
       "    }\n",
       "</style>\n",
       "<table border=\"1\" class=\"dataframe\">\n",
       "  <thead>\n",
       "    <tr style=\"text-align: right;\">\n",
       "      <th></th>\n",
       "      <th>radius</th>\n",
       "      <th>Ha</th>\n",
       "      <th>sig_Ha</th>\n",
       "      <th>sn_Ha</th>\n",
       "      <th>Hb</th>\n",
       "      <th>sig_Hb</th>\n",
       "      <th>sn_Hb</th>\n",
       "      <th>comp</th>\n",
       "      <th>agn</th>\n",
       "      <th>seyfert</th>\n",
       "      <th>liner</th>\n",
       "      <th>r/re</th>\n",
       "      <th>sp_33</th>\n",
       "      <th>nsp_33</th>\n",
       "      <th>mangaid</th>\n",
       "      <th>mass</th>\n",
       "    </tr>\n",
       "  </thead>\n",
       "  <tbody>\n",
       "    <tr>\n",
       "      <th>1908</th>\n",
       "      <td>9.892676</td>\n",
       "      <td>2.307287</td>\n",
       "      <td>0.041174</td>\n",
       "      <td>56.037975</td>\n",
       "      <td>0.577773</td>\n",
       "      <td>0.033683</td>\n",
       "      <td>17.153345</td>\n",
       "      <td>0.0</td>\n",
       "      <td>0.0</td>\n",
       "      <td>0.0</td>\n",
       "      <td>0.0</td>\n",
       "      <td>0.547426</td>\n",
       "      <td>False</td>\n",
       "      <td>True</td>\n",
       "      <td>1-106630</td>\n",
       "      <td>1.485051e+11</td>\n",
       "    </tr>\n",
       "    <tr>\n",
       "      <th>1909</th>\n",
       "      <td>9.790854</td>\n",
       "      <td>2.876945</td>\n",
       "      <td>0.048455</td>\n",
       "      <td>59.373714</td>\n",
       "      <td>0.693751</td>\n",
       "      <td>0.033794</td>\n",
       "      <td>20.528532</td>\n",
       "      <td>0.0</td>\n",
       "      <td>0.0</td>\n",
       "      <td>0.0</td>\n",
       "      <td>0.0</td>\n",
       "      <td>0.541792</td>\n",
       "      <td>False</td>\n",
       "      <td>True</td>\n",
       "      <td>1-106630</td>\n",
       "      <td>1.485051e+11</td>\n",
       "    </tr>\n",
       "    <tr>\n",
       "      <th>1910</th>\n",
       "      <td>9.869526</td>\n",
       "      <td>3.021276</td>\n",
       "      <td>0.051260</td>\n",
       "      <td>58.940353</td>\n",
       "      <td>0.714398</td>\n",
       "      <td>0.034199</td>\n",
       "      <td>20.889584</td>\n",
       "      <td>0.0</td>\n",
       "      <td>0.0</td>\n",
       "      <td>0.0</td>\n",
       "      <td>0.0</td>\n",
       "      <td>0.546145</td>\n",
       "      <td>False</td>\n",
       "      <td>True</td>\n",
       "      <td>1-106630</td>\n",
       "      <td>1.485051e+11</td>\n",
       "    </tr>\n",
       "    <tr>\n",
       "      <th>1978</th>\n",
       "      <td>9.574178</td>\n",
       "      <td>1.294332</td>\n",
       "      <td>0.038997</td>\n",
       "      <td>33.190514</td>\n",
       "      <td>0.286594</td>\n",
       "      <td>0.030694</td>\n",
       "      <td>9.337235</td>\n",
       "      <td>0.0</td>\n",
       "      <td>0.0</td>\n",
       "      <td>0.0</td>\n",
       "      <td>0.0</td>\n",
       "      <td>0.529802</td>\n",
       "      <td>False</td>\n",
       "      <td>True</td>\n",
       "      <td>1-106630</td>\n",
       "      <td>1.485051e+11</td>\n",
       "    </tr>\n",
       "    <tr>\n",
       "      <th>1979</th>\n",
       "      <td>9.118309</td>\n",
       "      <td>1.672822</td>\n",
       "      <td>0.043543</td>\n",
       "      <td>38.418133</td>\n",
       "      <td>0.430007</td>\n",
       "      <td>0.035374</td>\n",
       "      <td>12.156059</td>\n",
       "      <td>0.0</td>\n",
       "      <td>0.0</td>\n",
       "      <td>0.0</td>\n",
       "      <td>0.0</td>\n",
       "      <td>0.504575</td>\n",
       "      <td>False</td>\n",
       "      <td>True</td>\n",
       "      <td>1-106630</td>\n",
       "      <td>1.485051e+11</td>\n",
       "    </tr>\n",
       "    <tr>\n",
       "      <th>...</th>\n",
       "      <td>...</td>\n",
       "      <td>...</td>\n",
       "      <td>...</td>\n",
       "      <td>...</td>\n",
       "      <td>...</td>\n",
       "      <td>...</td>\n",
       "      <td>...</td>\n",
       "      <td>...</td>\n",
       "      <td>...</td>\n",
       "      <td>...</td>\n",
       "      <td>...</td>\n",
       "      <td>...</td>\n",
       "      <td>...</td>\n",
       "      <td>...</td>\n",
       "      <td>...</td>\n",
       "      <td>...</td>\n",
       "    </tr>\n",
       "    <tr>\n",
       "      <th>3204</th>\n",
       "      <td>9.118309</td>\n",
       "      <td>1.399072</td>\n",
       "      <td>0.040213</td>\n",
       "      <td>34.791328</td>\n",
       "      <td>0.327131</td>\n",
       "      <td>0.033469</td>\n",
       "      <td>9.774142</td>\n",
       "      <td>0.0</td>\n",
       "      <td>0.0</td>\n",
       "      <td>0.0</td>\n",
       "      <td>0.0</td>\n",
       "      <td>0.504575</td>\n",
       "      <td>False</td>\n",
       "      <td>True</td>\n",
       "      <td>1-106630</td>\n",
       "      <td>1.485051e+11</td>\n",
       "    </tr>\n",
       "    <tr>\n",
       "      <th>3205</th>\n",
       "      <td>9.574178</td>\n",
       "      <td>1.503573</td>\n",
       "      <td>0.044788</td>\n",
       "      <td>33.570847</td>\n",
       "      <td>0.328946</td>\n",
       "      <td>0.033108</td>\n",
       "      <td>9.935456</td>\n",
       "      <td>0.0</td>\n",
       "      <td>0.0</td>\n",
       "      <td>0.0</td>\n",
       "      <td>0.0</td>\n",
       "      <td>0.529802</td>\n",
       "      <td>False</td>\n",
       "      <td>True</td>\n",
       "      <td>1-106630</td>\n",
       "      <td>1.485051e+11</td>\n",
       "    </tr>\n",
       "    <tr>\n",
       "      <th>3273</th>\n",
       "      <td>9.869526</td>\n",
       "      <td>1.270008</td>\n",
       "      <td>0.042545</td>\n",
       "      <td>29.851034</td>\n",
       "      <td>0.276606</td>\n",
       "      <td>0.031425</td>\n",
       "      <td>8.802064</td>\n",
       "      <td>0.0</td>\n",
       "      <td>0.0</td>\n",
       "      <td>0.0</td>\n",
       "      <td>0.0</td>\n",
       "      <td>0.546145</td>\n",
       "      <td>False</td>\n",
       "      <td>True</td>\n",
       "      <td>1-106630</td>\n",
       "      <td>1.485051e+11</td>\n",
       "    </tr>\n",
       "    <tr>\n",
       "      <th>3274</th>\n",
       "      <td>9.790854</td>\n",
       "      <td>1.320003</td>\n",
       "      <td>0.045510</td>\n",
       "      <td>29.005001</td>\n",
       "      <td>0.294590</td>\n",
       "      <td>0.031859</td>\n",
       "      <td>9.246619</td>\n",
       "      <td>0.0</td>\n",
       "      <td>0.0</td>\n",
       "      <td>0.0</td>\n",
       "      <td>0.0</td>\n",
       "      <td>0.541792</td>\n",
       "      <td>False</td>\n",
       "      <td>True</td>\n",
       "      <td>1-106630</td>\n",
       "      <td>1.485051e+11</td>\n",
       "    </tr>\n",
       "    <tr>\n",
       "      <th>3275</th>\n",
       "      <td>9.892676</td>\n",
       "      <td>1.446558</td>\n",
       "      <td>0.042887</td>\n",
       "      <td>33.729694</td>\n",
       "      <td>0.317472</td>\n",
       "      <td>0.033083</td>\n",
       "      <td>9.596163</td>\n",
       "      <td>0.0</td>\n",
       "      <td>0.0</td>\n",
       "      <td>0.0</td>\n",
       "      <td>0.0</td>\n",
       "      <td>0.547426</td>\n",
       "      <td>False</td>\n",
       "      <td>True</td>\n",
       "      <td>1-106630</td>\n",
       "      <td>1.485051e+11</td>\n",
       "    </tr>\n",
       "  </tbody>\n",
       "</table>\n",
       "<p>232 rows × 16 columns</p>\n",
       "</div>"
      ],
      "text/plain": [
       "        radius        Ha    sig_Ha      sn_Ha        Hb    sig_Hb      sn_Hb  \\\n",
       "1908  9.892676  2.307287  0.041174  56.037975  0.577773  0.033683  17.153345   \n",
       "1909  9.790854  2.876945  0.048455  59.373714  0.693751  0.033794  20.528532   \n",
       "1910  9.869526  3.021276  0.051260  58.940353  0.714398  0.034199  20.889584   \n",
       "1978  9.574178  1.294332  0.038997  33.190514  0.286594  0.030694   9.337235   \n",
       "1979  9.118309  1.672822  0.043543  38.418133  0.430007  0.035374  12.156059   \n",
       "...        ...       ...       ...        ...       ...       ...        ...   \n",
       "3204  9.118309  1.399072  0.040213  34.791328  0.327131  0.033469   9.774142   \n",
       "3205  9.574178  1.503573  0.044788  33.570847  0.328946  0.033108   9.935456   \n",
       "3273  9.869526  1.270008  0.042545  29.851034  0.276606  0.031425   8.802064   \n",
       "3274  9.790854  1.320003  0.045510  29.005001  0.294590  0.031859   9.246619   \n",
       "3275  9.892676  1.446558  0.042887  33.729694  0.317472  0.033083   9.596163   \n",
       "\n",
       "      comp  agn  seyfert  liner      r/re  sp_33  nsp_33   mangaid  \\\n",
       "1908   0.0  0.0      0.0    0.0  0.547426  False    True  1-106630   \n",
       "1909   0.0  0.0      0.0    0.0  0.541792  False    True  1-106630   \n",
       "1910   0.0  0.0      0.0    0.0  0.546145  False    True  1-106630   \n",
       "1978   0.0  0.0      0.0    0.0  0.529802  False    True  1-106630   \n",
       "1979   0.0  0.0      0.0    0.0  0.504575  False    True  1-106630   \n",
       "...    ...  ...      ...    ...       ...    ...     ...       ...   \n",
       "3204   0.0  0.0      0.0    0.0  0.504575  False    True  1-106630   \n",
       "3205   0.0  0.0      0.0    0.0  0.529802  False    True  1-106630   \n",
       "3273   0.0  0.0      0.0    0.0  0.546145  False    True  1-106630   \n",
       "3274   0.0  0.0      0.0    0.0  0.541792  False    True  1-106630   \n",
       "3275   0.0  0.0      0.0    0.0  0.547426  False    True  1-106630   \n",
       "\n",
       "              mass  \n",
       "1908  1.485051e+11  \n",
       "1909  1.485051e+11  \n",
       "1910  1.485051e+11  \n",
       "1978  1.485051e+11  \n",
       "1979  1.485051e+11  \n",
       "...            ...  \n",
       "3204  1.485051e+11  \n",
       "3205  1.485051e+11  \n",
       "3273  1.485051e+11  \n",
       "3274  1.485051e+11  \n",
       "3275  1.485051e+11  \n",
       "\n",
       "[232 rows x 16 columns]"
      ]
     },
     "execution_count": 4,
     "metadata": {},
     "output_type": "execute_result"
    }
   ],
   "source": [
    "sub_ex_df"
   ]
  },
  {
   "cell_type": "code",
   "execution_count": 5,
   "id": "b3e15702-5132-49d9-ae58-0b6303c6adab",
   "metadata": {},
   "outputs": [
    {
     "data": {
      "text/html": [
       "<div>\n",
       "<style scoped>\n",
       "    .dataframe tbody tr th:only-of-type {\n",
       "        vertical-align: middle;\n",
       "    }\n",
       "\n",
       "    .dataframe tbody tr th {\n",
       "        vertical-align: top;\n",
       "    }\n",
       "\n",
       "    .dataframe thead th {\n",
       "        text-align: right;\n",
       "    }\n",
       "</style>\n",
       "<table border=\"1\" class=\"dataframe\">\n",
       "  <thead>\n",
       "    <tr style=\"text-align: right;\">\n",
       "      <th></th>\n",
       "      <th>radius</th>\n",
       "      <th>Ha</th>\n",
       "      <th>sig_Ha</th>\n",
       "      <th>sn_Ha</th>\n",
       "      <th>Hb</th>\n",
       "      <th>sig_Hb</th>\n",
       "      <th>sn_Hb</th>\n",
       "      <th>comp</th>\n",
       "      <th>agn</th>\n",
       "      <th>seyfert</th>\n",
       "      <th>liner</th>\n",
       "      <th>r/re</th>\n",
       "      <th>sp_33</th>\n",
       "      <th>nsp_33</th>\n",
       "      <th>mangaid</th>\n",
       "      <th>mass</th>\n",
       "    </tr>\n",
       "  </thead>\n",
       "  <tbody>\n",
       "    <tr>\n",
       "      <th>0</th>\n",
       "      <td>66.133491</td>\n",
       "      <td>NaN</td>\n",
       "      <td>NaN</td>\n",
       "      <td>0.0</td>\n",
       "      <td>NaN</td>\n",
       "      <td>NaN</td>\n",
       "      <td>0.0</td>\n",
       "      <td>0.0</td>\n",
       "      <td>0.0</td>\n",
       "      <td>0.0</td>\n",
       "      <td>0.0</td>\n",
       "      <td>3.659597</td>\n",
       "      <td>False</td>\n",
       "      <td>True</td>\n",
       "      <td>1-106630</td>\n",
       "      <td>1.485051e+11</td>\n",
       "    </tr>\n",
       "    <tr>\n",
       "      <th>1</th>\n",
       "      <td>65.027666</td>\n",
       "      <td>NaN</td>\n",
       "      <td>NaN</td>\n",
       "      <td>0.0</td>\n",
       "      <td>NaN</td>\n",
       "      <td>NaN</td>\n",
       "      <td>0.0</td>\n",
       "      <td>0.0</td>\n",
       "      <td>0.0</td>\n",
       "      <td>0.0</td>\n",
       "      <td>0.0</td>\n",
       "      <td>3.598404</td>\n",
       "      <td>False</td>\n",
       "      <td>True</td>\n",
       "      <td>1-106630</td>\n",
       "      <td>1.485051e+11</td>\n",
       "    </tr>\n",
       "    <tr>\n",
       "      <th>2</th>\n",
       "      <td>63.930485</td>\n",
       "      <td>NaN</td>\n",
       "      <td>NaN</td>\n",
       "      <td>0.0</td>\n",
       "      <td>NaN</td>\n",
       "      <td>NaN</td>\n",
       "      <td>0.0</td>\n",
       "      <td>0.0</td>\n",
       "      <td>0.0</td>\n",
       "      <td>0.0</td>\n",
       "      <td>0.0</td>\n",
       "      <td>3.537690</td>\n",
       "      <td>False</td>\n",
       "      <td>True</td>\n",
       "      <td>1-106630</td>\n",
       "      <td>1.485051e+11</td>\n",
       "    </tr>\n",
       "    <tr>\n",
       "      <th>3</th>\n",
       "      <td>62.842402</td>\n",
       "      <td>NaN</td>\n",
       "      <td>NaN</td>\n",
       "      <td>0.0</td>\n",
       "      <td>NaN</td>\n",
       "      <td>NaN</td>\n",
       "      <td>0.0</td>\n",
       "      <td>0.0</td>\n",
       "      <td>0.0</td>\n",
       "      <td>0.0</td>\n",
       "      <td>0.0</td>\n",
       "      <td>3.477479</td>\n",
       "      <td>False</td>\n",
       "      <td>True</td>\n",
       "      <td>1-106630</td>\n",
       "      <td>1.485051e+11</td>\n",
       "    </tr>\n",
       "    <tr>\n",
       "      <th>4</th>\n",
       "      <td>61.763897</td>\n",
       "      <td>NaN</td>\n",
       "      <td>NaN</td>\n",
       "      <td>0.0</td>\n",
       "      <td>NaN</td>\n",
       "      <td>NaN</td>\n",
       "      <td>0.0</td>\n",
       "      <td>0.0</td>\n",
       "      <td>0.0</td>\n",
       "      <td>0.0</td>\n",
       "      <td>0.0</td>\n",
       "      <td>3.417798</td>\n",
       "      <td>False</td>\n",
       "      <td>True</td>\n",
       "      <td>1-106630</td>\n",
       "      <td>1.485051e+11</td>\n",
       "    </tr>\n",
       "    <tr>\n",
       "      <th>...</th>\n",
       "      <td>...</td>\n",
       "      <td>...</td>\n",
       "      <td>...</td>\n",
       "      <td>...</td>\n",
       "      <td>...</td>\n",
       "      <td>...</td>\n",
       "      <td>...</td>\n",
       "      <td>...</td>\n",
       "      <td>...</td>\n",
       "      <td>...</td>\n",
       "      <td>...</td>\n",
       "      <td>...</td>\n",
       "      <td>...</td>\n",
       "      <td>...</td>\n",
       "      <td>...</td>\n",
       "      <td>...</td>\n",
       "    </tr>\n",
       "    <tr>\n",
       "      <th>5179</th>\n",
       "      <td>61.763897</td>\n",
       "      <td>NaN</td>\n",
       "      <td>NaN</td>\n",
       "      <td>0.0</td>\n",
       "      <td>NaN</td>\n",
       "      <td>NaN</td>\n",
       "      <td>0.0</td>\n",
       "      <td>0.0</td>\n",
       "      <td>0.0</td>\n",
       "      <td>0.0</td>\n",
       "      <td>0.0</td>\n",
       "      <td>3.417798</td>\n",
       "      <td>False</td>\n",
       "      <td>True</td>\n",
       "      <td>1-106630</td>\n",
       "      <td>1.485051e+11</td>\n",
       "    </tr>\n",
       "    <tr>\n",
       "      <th>5180</th>\n",
       "      <td>62.842402</td>\n",
       "      <td>NaN</td>\n",
       "      <td>NaN</td>\n",
       "      <td>0.0</td>\n",
       "      <td>NaN</td>\n",
       "      <td>NaN</td>\n",
       "      <td>0.0</td>\n",
       "      <td>0.0</td>\n",
       "      <td>0.0</td>\n",
       "      <td>0.0</td>\n",
       "      <td>0.0</td>\n",
       "      <td>3.477479</td>\n",
       "      <td>False</td>\n",
       "      <td>True</td>\n",
       "      <td>1-106630</td>\n",
       "      <td>1.485051e+11</td>\n",
       "    </tr>\n",
       "    <tr>\n",
       "      <th>5181</th>\n",
       "      <td>63.930485</td>\n",
       "      <td>NaN</td>\n",
       "      <td>NaN</td>\n",
       "      <td>0.0</td>\n",
       "      <td>NaN</td>\n",
       "      <td>NaN</td>\n",
       "      <td>0.0</td>\n",
       "      <td>0.0</td>\n",
       "      <td>0.0</td>\n",
       "      <td>0.0</td>\n",
       "      <td>0.0</td>\n",
       "      <td>3.537690</td>\n",
       "      <td>False</td>\n",
       "      <td>True</td>\n",
       "      <td>1-106630</td>\n",
       "      <td>1.485051e+11</td>\n",
       "    </tr>\n",
       "    <tr>\n",
       "      <th>5182</th>\n",
       "      <td>65.027666</td>\n",
       "      <td>NaN</td>\n",
       "      <td>NaN</td>\n",
       "      <td>0.0</td>\n",
       "      <td>NaN</td>\n",
       "      <td>NaN</td>\n",
       "      <td>0.0</td>\n",
       "      <td>0.0</td>\n",
       "      <td>0.0</td>\n",
       "      <td>0.0</td>\n",
       "      <td>0.0</td>\n",
       "      <td>3.598404</td>\n",
       "      <td>False</td>\n",
       "      <td>True</td>\n",
       "      <td>1-106630</td>\n",
       "      <td>1.485051e+11</td>\n",
       "    </tr>\n",
       "    <tr>\n",
       "      <th>5183</th>\n",
       "      <td>66.133491</td>\n",
       "      <td>NaN</td>\n",
       "      <td>NaN</td>\n",
       "      <td>0.0</td>\n",
       "      <td>NaN</td>\n",
       "      <td>NaN</td>\n",
       "      <td>0.0</td>\n",
       "      <td>0.0</td>\n",
       "      <td>0.0</td>\n",
       "      <td>0.0</td>\n",
       "      <td>0.0</td>\n",
       "      <td>3.659597</td>\n",
       "      <td>False</td>\n",
       "      <td>True</td>\n",
       "      <td>1-106630</td>\n",
       "      <td>1.485051e+11</td>\n",
       "    </tr>\n",
       "  </tbody>\n",
       "</table>\n",
       "<p>5184 rows × 16 columns</p>\n",
       "</div>"
      ],
      "text/plain": [
       "         radius  Ha  sig_Ha  sn_Ha  Hb  sig_Hb  sn_Hb  comp  agn  seyfert  \\\n",
       "0     66.133491 NaN     NaN    0.0 NaN     NaN    0.0   0.0  0.0      0.0   \n",
       "1     65.027666 NaN     NaN    0.0 NaN     NaN    0.0   0.0  0.0      0.0   \n",
       "2     63.930485 NaN     NaN    0.0 NaN     NaN    0.0   0.0  0.0      0.0   \n",
       "3     62.842402 NaN     NaN    0.0 NaN     NaN    0.0   0.0  0.0      0.0   \n",
       "4     61.763897 NaN     NaN    0.0 NaN     NaN    0.0   0.0  0.0      0.0   \n",
       "...         ...  ..     ...    ...  ..     ...    ...   ...  ...      ...   \n",
       "5179  61.763897 NaN     NaN    0.0 NaN     NaN    0.0   0.0  0.0      0.0   \n",
       "5180  62.842402 NaN     NaN    0.0 NaN     NaN    0.0   0.0  0.0      0.0   \n",
       "5181  63.930485 NaN     NaN    0.0 NaN     NaN    0.0   0.0  0.0      0.0   \n",
       "5182  65.027666 NaN     NaN    0.0 NaN     NaN    0.0   0.0  0.0      0.0   \n",
       "5183  66.133491 NaN     NaN    0.0 NaN     NaN    0.0   0.0  0.0      0.0   \n",
       "\n",
       "      liner      r/re  sp_33  nsp_33   mangaid          mass  \n",
       "0       0.0  3.659597  False    True  1-106630  1.485051e+11  \n",
       "1       0.0  3.598404  False    True  1-106630  1.485051e+11  \n",
       "2       0.0  3.537690  False    True  1-106630  1.485051e+11  \n",
       "3       0.0  3.477479  False    True  1-106630  1.485051e+11  \n",
       "4       0.0  3.417798  False    True  1-106630  1.485051e+11  \n",
       "...     ...       ...    ...     ...       ...           ...  \n",
       "5179    0.0  3.417798  False    True  1-106630  1.485051e+11  \n",
       "5180    0.0  3.477479  False    True  1-106630  1.485051e+11  \n",
       "5181    0.0  3.537690  False    True  1-106630  1.485051e+11  \n",
       "5182    0.0  3.598404  False    True  1-106630  1.485051e+11  \n",
       "5183    0.0  3.659597  False    True  1-106630  1.485051e+11  \n",
       "\n",
       "[5184 rows x 16 columns]"
      ]
     },
     "execution_count": 5,
     "metadata": {},
     "output_type": "execute_result"
    }
   ],
   "source": [
    "ex_df"
   ]
  },
  {
   "cell_type": "code",
   "execution_count": null,
   "id": "afe73a94-abeb-4164-b75e-a8a418d69e2d",
   "metadata": {},
   "outputs": [],
   "source": []
  },
  {
   "cell_type": "code",
   "execution_count": null,
   "id": "664d6f68-2807-4e92-9f19-415b74c4ec07",
   "metadata": {},
   "outputs": [],
   "source": []
  },
  {
   "cell_type": "code",
   "execution_count": null,
   "id": "c616ee22-c2a7-4e82-b913-05bbc303940f",
   "metadata": {},
   "outputs": [],
   "source": []
  },
  {
   "cell_type": "code",
   "execution_count": null,
   "id": "5ce5e338-f156-46a3-b1a6-f1d405b3295c",
   "metadata": {},
   "outputs": [],
   "source": []
  },
  {
   "cell_type": "code",
   "execution_count": null,
   "id": "cc5e43e3-e77a-45a7-b5f7-68a144910f55",
   "metadata": {},
   "outputs": [],
   "source": []
  },
  {
   "cell_type": "code",
   "execution_count": null,
   "id": "0e9d3dad-b6c2-4f26-b369-804c121eb51a",
   "metadata": {},
   "outputs": [],
   "source": []
  },
  {
   "cell_type": "code",
   "execution_count": null,
   "id": "726bbb9e-798b-4912-aeb7-8fc40d21bafe",
   "metadata": {},
   "outputs": [],
   "source": []
  },
  {
   "cell_type": "code",
   "execution_count": null,
   "id": "959902e3-59fe-43c5-83c7-4dba0575b538",
   "metadata": {},
   "outputs": [],
   "source": []
  },
  {
   "cell_type": "code",
   "execution_count": 8,
   "id": "868c0df0-ac80-4eab-9c42-578fd7a2230f",
   "metadata": {},
   "outputs": [
    {
     "data": {
      "text/plain": [
       "Int64Index([1908, 1909, 1910, 1978, 1979, 1980, 1981, 1982, 1983, 1984,\n",
       "            ...\n",
       "            3199, 3200, 3201, 3202, 3203, 3204, 3205, 3273, 3274, 3275],\n",
       "           dtype='int64', length=232)"
      ]
     },
     "execution_count": 8,
     "metadata": {},
     "output_type": "execute_result"
    }
   ],
   "source": [
    "sub_ex_df.index"
   ]
  },
  {
   "cell_type": "code",
   "execution_count": 4,
   "id": "99a82721-febb-4a59-92d2-4e1f024f0748",
   "metadata": {},
   "outputs": [],
   "source": [
    "import numpy as np\n",
    "import matplotlib.pyplot as plt"
   ]
  },
  {
   "cell_type": "code",
   "execution_count": 5,
   "id": "08c00e26-46ed-4e3b-aba9-70223a90772b",
   "metadata": {},
   "outputs": [],
   "source": [
    "map_array = np.arange(72**2).reshape(72, 72)"
   ]
  },
  {
   "cell_type": "code",
   "execution_count": 52,
   "id": "00673947-7b50-42e5-8536-dc8ad3959d28",
   "metadata": {},
   "outputs": [
    {
     "data": {
      "text/plain": [
       "array([[   0,    1,    2, ...,   69,   70,   71],\n",
       "       [  72,   73,   74, ...,  141,  142,  143],\n",
       "       [ 144,  145,  146, ...,  213,  214,  215],\n",
       "       ...,\n",
       "       [4968, 4969, 4970, ..., 5037, 5038, 5039],\n",
       "       [5040, 5041, 5042, ..., 5109, 5110, 5111],\n",
       "       [5112, 5113, 5114, ..., 5181, 5182, 5183]])"
      ]
     },
     "execution_count": 52,
     "metadata": {},
     "output_type": "execute_result"
    }
   ],
   "source": [
    "map_array"
   ]
  },
  {
   "cell_type": "code",
   "execution_count": 53,
   "id": "f7ad636d-bb6c-4c4a-b825-4cda565283dd",
   "metadata": {},
   "outputs": [
    {
     "data": {
      "text/plain": [
       "<matplotlib.image.AxesImage at 0x7fd9475feca0>"
      ]
     },
     "execution_count": 53,
     "metadata": {},
     "output_type": "execute_result"
    },
    {
     "data": {
      "image/png": "[encoded data removed]",
      "text/plain": [
       "<Figure size 432x288 with 1 Axes>"
      ]
     },
     "metadata": {
      "needs_background": "light"
     },
     "output_type": "display_data"
    }
   ],
   "source": [
    "plt.imshow(map_array)"
   ]
  },
  {
   "cell_type": "code",
   "execution_count": 54,
   "id": "d7d8f4ad-a197-445d-92a5-4bb32242415c",
   "metadata": {},
   "outputs": [],
   "source": [
    "from photutils.aperture import CircularAperture"
   ]
  },
  {
   "cell_type": "code",
   "execution_count": 55,
   "id": "33e457bd-b8a0-4d3c-894d-bf2c1ca9bcf8",
   "metadata": {},
   "outputs": [],
   "source": [
    "aperture = CircularAperture((10, 10), r=6)"
   ]
  },
  {
   "cell_type": "code",
   "execution_count": 56,
   "id": "c30fdbc6-f591-406a-b73f-a1e6069dac81",
   "metadata": {},
   "outputs": [],
   "source": [
    "mask = aperture.to_mask(method='center')"
   ]
  },
  {
   "cell_type": "code",
   "execution_count": 62,
   "id": "254fd38e-56f3-4aea-bd28-8b12f1c3543a",
   "metadata": {},
   "outputs": [],
   "source": [
    "image = mask.to_image(shape=((72, 72)))"
   ]
  },
  {
   "cell_type": "code",
   "execution_count": 64,
   "id": "ce14723d-2f5c-4f3a-9e13-30a0b31f5ece",
   "metadata": {},
   "outputs": [
    {
     "data": {
      "text/plain": [
       "<matplotlib.image.AxesImage at 0x7fd9474eaf70>"
      ]
     },
     "execution_count": 64,
     "metadata": {},
     "output_type": "execute_result"
    },
    {
     "data": {
      "image/png": "[encoded data removed]",
      "text/plain": [
       "<Figure size 432x288 with 1 Axes>"
      ]
     },
     "metadata": {
      "needs_background": "light"
     },
     "output_type": "display_data"
    }
   ],
   "source": [
    "plt.imshow(image)"
   ]
  },
  {
   "cell_type": "code",
   "execution_count": 67,
   "id": "8b852ef9-07b6-478a-8266-8dea1677d0fc",
   "metadata": {},
   "outputs": [],
   "source": [
    "myindices = np.where(image > 0)"
   ]
  },
  {
   "cell_type": "code",
   "execution_count": 68,
   "id": "18403023-02bb-46be-ba7a-6a0a0f1d73dd",
   "metadata": {},
   "outputs": [],
   "source": [
    "new_map_array = map_array.copy()"
   ]
  },
  {
   "cell_type": "code",
   "execution_count": 69,
   "id": "7da459ee-d0fb-4bdd-b8bc-af2efd04f55b",
   "metadata": {},
   "outputs": [],
   "source": [
    "new_map_array[myindices] = 0"
   ]
  },
  {
   "cell_type": "code",
   "execution_count": 71,
   "id": "9f0807e3-d8c6-4995-bc79-3b1ae35ae50b",
   "metadata": {},
   "outputs": [
    {
     "data": {
      "text/plain": [
       "<matplotlib.image.AxesImage at 0x7fd947410af0>"
      ]
     },
     "execution_count": 71,
     "metadata": {},
     "output_type": "execute_result"
    },
    {
     "data": {
      "image/png": "[encoded data removed]",
      "text/plain": [
       "<Figure size 432x288 with 1 Axes>"
      ]
     },
     "metadata": {
      "needs_background": "light"
     },
     "output_type": "display_data"
    }
   ],
   "source": [
    "plt.imshow(new_map_array)"
   ]
  },
  {
   "cell_type": "code",
   "execution_count": 39,
   "id": "d65ffdb7-159f-4fa4-9a9c-14866a3140fc",
   "metadata": {},
   "outputs": [],
   "source": [
    "import imageio as iio"
   ]
  },
  {
   "cell_type": "code",
   "execution_count": 40,
   "id": "d5550728-c199-4935-b996-79d347db51fc",
   "metadata": {},
   "outputs": [],
   "source": [
    "img = iio.imread(\"test_jpeg.jpg\")"
   ]
  },
  {
   "cell_type": "code",
   "execution_count": 41,
   "id": "6c29add2-408a-4ccb-9960-ce421e7669aa",
   "metadata": {},
   "outputs": [
    {
     "data": {
      "text/plain": [
       "<matplotlib.image.AxesImage at 0x7fd9476aa190>"
      ]
     },
     "execution_count": 41,
     "metadata": {},
     "output_type": "execute_result"
    },
    {
     "data": {
      "image/png": "[encoded data removed]",
      "text/plain": [
       "<Figure size 432x288 with 1 Axes>"
      ]
     },
     "metadata": {
      "needs_background": "light"
     },
     "output_type": "display_data"
    }
   ],
   "source": [
    "plt.imshow(img[:, :, 1])"
   ]
  },
  {
   "cell_type": "code",
   "execution_count": 47,
   "id": "a93695fa-147c-43dd-9bd1-652bc4bd11b0",
   "metadata": {},
   "outputs": [
    {
     "data": {
      "text/plain": [
       "Image([[ 25,  33,   7, ..., 232,  64, 108],\n",
       "       [ 30,  25,  14, ..., 190,  86, 169],\n",
       "       [ 30,  19,  24, ..., 108, 169, 186],\n",
       "       ...,\n",
       "       [ 71,  71,  71, ..., 219, 226, 227],\n",
       "       [ 71,  71,  71, ..., 214, 226, 217],\n",
       "       [ 70,  70,  71, ..., 218, 227, 217]], dtype=uint8)"
      ]
     },
     "execution_count": 47,
     "metadata": {},
     "output_type": "execute_result"
    }
   ],
   "source": [
    "masks.cutout(img[:, :, 1])"
   ]
  },
  {
   "cell_type": "code",
   "execution_count": 42,
   "id": "c27247c4-74f8-4a91-9edd-3ea778747f6c",
   "metadata": {},
   "outputs": [
    {
     "data": {
      "text/plain": [
       "<matplotlib.image.AxesImage at 0x7fd947674850>"
      ]
     },
     "execution_count": 42,
     "metadata": {},
     "output_type": "execute_result"
    },
    {
     "data": {
      "image/png": "[encoded data removed]",
      "text/plain": [
       "<Figure size 432x288 with 1 Axes>"
      ]
     },
     "metadata": {
      "needs_background": "light"
     },
     "output_type": "display_data"
    }
   ],
   "source": [
    "plt.imshow(masks.cutout(img[:, :, 1]))"
   ]
  },
  {
   "cell_type": "code",
   "execution_count": null,
   "id": "55a913d9-a30a-4caf-9f3e-d245b92330e6",
   "metadata": {},
   "outputs": [],
   "source": []
  },
  {
   "cell_type": "code",
   "execution_count": 43,
   "id": "39337a85-2de7-41db-be13-a686d3466754",
   "metadata": {},
   "outputs": [
    {
     "data": {
      "text/plain": [
       "(168, 299)"
      ]
     },
     "execution_count": 43,
     "metadata": {},
     "output_type": "execute_result"
    }
   ],
   "source": [
    "img[:, :, 1].shape"
   ]
  },
  {
   "cell_type": "code",
   "execution_count": 48,
   "id": "2df50467-b172-4bad-b3cd-cef884bf6939",
   "metadata": {},
   "outputs": [
    {
     "data": {
      "text/plain": [
       "<photutils.aperture.mask.ApertureMask at 0x7fd94e1eadf0>"
      ]
     },
     "execution_count": 48,
     "metadata": {},
     "output_type": "execute_result"
    }
   ],
   "source": [
    "masks"
   ]
  },
  {
   "cell_type": "code",
   "execution_count": 49,
   "id": "abd3d773-318e-4ae4-9bea-bd87c3715c57",
   "metadata": {},
   "outputs": [
    {
     "ename": "IndexError",
     "evalue": "only integers, slices (`:`), ellipsis (`...`), numpy.newaxis (`None`) and integer or boolean arrays are valid indices",
     "output_type": "error",
     "traceback": [
      "\u001b[0;31m----------------------------------------------------------------------\u001b[0m",
      "\u001b[0;31mIndexError\u001b[0m                           Traceback (most recent call last)",
      "Input \u001b[0;32mIn [49]\u001b[0m, in \u001b[0;36m<cell line: 1>\u001b[0;34m()\u001b[0m\n\u001b[0;32m----> 1\u001b[0m \u001b[43mimg\u001b[49m\u001b[43m[\u001b[49m\u001b[43mmasks\u001b[49m\u001b[43m]\u001b[49m\n",
      "\u001b[0;31mIndexError\u001b[0m: only integers, slices (`:`), ellipsis (`...`), numpy.newaxis (`None`) and integer or boolean arrays are valid indices"
     ]
    }
   ],
   "source": [
    "img[masks"
   ]
  },
  {
   "cell_type": "code",
   "execution_count": 83,
   "id": "aa74edb6-5e9c-4d34-99c4-fb5150c6a184",
   "metadata": {},
   "outputs": [],
   "source": [
    "sample_cov_array = np.arange(72**4).reshape(72**2, 72**2)"
   ]
  },
  {
   "cell_type": "code",
   "execution_count": 84,
   "id": "c14d81f5-0968-41c4-917c-8d3b3fee5030",
   "metadata": {},
   "outputs": [
    {
     "data": {
      "text/plain": [
       "<matplotlib.image.AxesImage at 0x7fd946f15100>"
      ]
     },
     "execution_count": 84,
     "metadata": {},
     "output_type": "execute_result"
    },
    {
     "data": {
      "image/png": "[encoded data removed]",
      "text/plain": [
       "<Figure size 432x288 with 1 Axes>"
      ]
     },
     "metadata": {
      "needs_background": "light"
     },
     "output_type": "display_data"
    }
   ],
   "source": [
    "plt.imshow(sample_cov_array)"
   ]
  },
  {
   "cell_type": "code",
   "execution_count": 85,
   "id": "b1ae88ac-6efa-467e-84a5-ae029a9511c8",
   "metadata": {},
   "outputs": [],
   "source": [
    "aperture = CircularAperture((1000, 1000), r=600)"
   ]
  },
  {
   "cell_type": "code",
   "execution_count": 86,
   "id": "fdfc2519-5a64-4ba0-9e9c-ab8e8d25bbb3",
   "metadata": {},
   "outputs": [],
   "source": [
    "mask = aperture.to_mask(method='center')"
   ]
  },
  {
   "cell_type": "code",
   "execution_count": 87,
   "id": "e6a73b66-2e2e-4dc0-aff6-ca6fe32632d0",
   "metadata": {},
   "outputs": [],
   "source": [
    "large_image = mask.to_image(shape=(72**2, 72**2))"
   ]
  },
  {
   "cell_type": "code",
   "execution_count": 88,
   "id": "c79bccda-6f05-4089-8a0c-161f40d68e70",
   "metadata": {},
   "outputs": [],
   "source": [
    "large_indices = np.where(large_image > 0)"
   ]
  },
  {
   "cell_type": "code",
   "execution_count": 89,
   "id": "9032279e-010b-454a-a283-ffe9bdf72f90",
   "metadata": {},
   "outputs": [],
   "source": [
    "sample_cov_array[large_indices] = 0"
   ]
  },
  {
   "cell_type": "code",
   "execution_count": 90,
   "id": "4ed105c4-b768-4d77-9954-3e1dcaa4bc1d",
   "metadata": {},
   "outputs": [
    {
     "data": {
      "text/plain": [
       "<matplotlib.image.AxesImage at 0x7fd946cdeac0>"
      ]
     },
     "execution_count": 90,
     "metadata": {},
     "output_type": "execute_result"
    },
    {
     "data": {
      "image/png": "[encoded data removed]",
      "text/plain": [
       "<Figure size 432x288 with 1 Axes>"
      ]
     },
     "metadata": {
      "needs_background": "light"
     },
     "output_type": "display_data"
    }
   ],
   "source": [
    "plt.imshow(sample_cov_array)"
   ]
  },
  {
   "cell_type": "code",
   "execution_count": 95,
   "id": "af596793-ff4b-4dbd-99f8-c72e04b3fe3e",
   "metadata": {},
   "outputs": [
    {
     "data": {
      "text/plain": [
       "(1130893,)"
      ]
     },
     "execution_count": 95,
     "metadata": {},
     "output_type": "execute_result"
    }
   ],
   "source": [
    "large_indices[1].shape"
   ]
  },
  {
   "cell_type": "code",
   "execution_count": null,
   "id": "1257662a-e7eb-46a9-a720-3016467f4892",
   "metadata": {},
   "outputs": [],
   "source": []
  }
 ],
 "metadata": {
  "kernelspec": {
   "display_name": "Python 3",
   "language": "python",
   "name": "python3"
  },
  "language_info": {
   "codemirror_mode": {
    "name": "ipython",
    "version": 3
   },
   "file_extension": ".py",
   "mimetype": "text/x-python",
   "name": "python",
   "nbconvert_exporter": "python",
   "pygments_lexer": "ipython3",
   "version": "3.9.7"
  }
 },
 "nbformat": 4,
 "nbformat_minor": 5
}
